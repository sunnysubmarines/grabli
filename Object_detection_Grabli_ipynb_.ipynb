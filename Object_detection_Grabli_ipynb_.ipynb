{
  "nbformat": 4,
  "nbformat_minor": 0,
  "metadata": {
    "colab": {
      "name": "Object detection_Grabli.ipynb\"",
      "provenance": [],
      "collapsed_sections": [],
      "toc_visible": true
    },
    "kernelspec": {
      "name": "python3",
      "display_name": "Python 3"
    },
    "accelerator": "GPU"
  },
  "cells": [
    {
      "cell_type": "code",
      "metadata": {
        "id": "Wj4Onlwm2KCT",
        "colab_type": "code",
        "colab": {
          "base_uri": "https://localhost:8080/",
          "height": 34
        },
        "outputId": "61ee87d6-793c-4a7f-f1f9-38fa84f39b15"
      },
      "source": [
        "# Количество и название подключенного GPU\n",
        "!nvidia-smi -L"
      ],
      "execution_count": 1,
      "outputs": [
        {
          "output_type": "stream",
          "text": [
            "GPU 0: Tesla K80 (UUID: GPU-125b3888-9730-78a5-c3ee-54cb2c71495f)\n"
          ],
          "name": "stdout"
        }
      ]
    },
    {
      "cell_type": "code",
      "metadata": {
        "id": "jF0BU3EN4B56",
        "colab_type": "code",
        "colab": {
          "base_uri": "https://localhost:8080/",
          "height": 173
        },
        "outputId": "58caba8f-0db9-4252-ca21-513e4c9ebd9f"
      },
      "source": [
        "#Установка Keras версии 2.3.1\n",
        "!pip install Keras==2.3.1"
      ],
      "execution_count": null,
      "outputs": [
        {
          "output_type": "stream",
          "text": [
            "Requirement already satisfied: Keras==2.3.1 in /usr/local/lib/python3.6/dist-packages (2.3.1)\n",
            "Requirement already satisfied: six>=1.9.0 in /usr/local/lib/python3.6/dist-packages (from Keras==2.3.1) (1.12.0)\n",
            "Requirement already satisfied: h5py in /usr/local/lib/python3.6/dist-packages (from Keras==2.3.1) (2.10.0)\n",
            "Requirement already satisfied: pyyaml in /usr/local/lib/python3.6/dist-packages (from Keras==2.3.1) (3.13)\n",
            "Requirement already satisfied: numpy>=1.9.1 in /usr/local/lib/python3.6/dist-packages (from Keras==2.3.1) (1.18.5)\n",
            "Requirement already satisfied: keras-applications>=1.0.6 in /usr/local/lib/python3.6/dist-packages (from Keras==2.3.1) (1.0.8)\n",
            "Requirement already satisfied: keras-preprocessing>=1.0.5 in /usr/local/lib/python3.6/dist-packages (from Keras==2.3.1) (1.1.2)\n",
            "Requirement already satisfied: scipy>=0.14 in /usr/local/lib/python3.6/dist-packages (from Keras==2.3.1) (1.4.1)\n"
          ],
          "name": "stdout"
        }
      ]
    },
    {
      "cell_type": "code",
      "metadata": {
        "id": "Pd2K4Lp15syo",
        "colab_type": "code",
        "colab": {
          "base_uri": "https://localhost:8080/",
          "height": 88
        },
        "outputId": "209e9b19-7ee5-4388-db7b-5785476ed90f"
      },
      "source": [
        "# Печать версии Keras. Должна быть именно 2.3.1\n",
        "!python -c 'import keras; print(keras.__version__)'"
      ],
      "execution_count": null,
      "outputs": [
        {
          "output_type": "stream",
          "text": [
            "Using TensorFlow backend.\n",
            "2020-07-08 14:28:01.092068: I tensorflow/stream_executor/platform/default/dso_loader.cc:44] Successfully opened dynamic library libcudart.so.10.1\n",
            "2.3.1\n"
          ],
          "name": "stdout"
        }
      ]
    },
    {
      "cell_type": "markdown",
      "metadata": {
        "id": "52U-HnigUUZH",
        "colab_type": "text"
      },
      "source": [
        " ## Скачиваем и извлекаем набор данных"
      ]
    },
    {
      "cell_type": "code",
      "metadata": {
        "id": "FJ04QTePO0gU",
        "colab_type": "code",
        "colab": {}
      },
      "source": [
        "import os"
      ],
      "execution_count": null,
      "outputs": []
    },
    {
      "cell_type": "code",
      "metadata": {
        "id": "OwvRGmttkWBL",
        "colab_type": "code",
        "colab": {}
      },
      "source": [
        "# заменить на свое Kaggle-имя и ключ\n",
        "os.environ['KAGGLE_USERNAME'] = \"katerindanilina\" \n",
        "os.environ['KAGGLE_KEY'] = \"XXX\" "
      ],
      "execution_count": null,
      "outputs": []
    },
    {
      "cell_type": "code",
      "metadata": {
        "id": "RS_nnOxc2QLh",
        "colab_type": "code",
        "colab": {
          "base_uri": "https://localhost:8080/",
          "height": 68
        },
        "outputId": "1c7123ae-607b-4edf-ec47-ef841ced4317"
      },
      "source": [
        "# Скачиваем и разархивируем\n",
        "!kaggle datasets download kbhartiya83/swimming-pool-and-car-detection -p /content/data --unzip "
      ],
      "execution_count": null,
      "outputs": [
        {
          "output_type": "stream",
          "text": [
            "Downloading swimming-pool-and-car-detection.zip to /content/data\n",
            " 91% 101M/111M [00:01<00:00, 73.1MB/s] \n",
            "100% 111M/111M [00:01<00:00, 62.5MB/s]\n"
          ],
          "name": "stdout"
        }
      ]
    },
    {
      "cell_type": "markdown",
      "metadata": {
        "id": "TzzSeBY7VSGg",
        "colab_type": "text"
      },
      "source": [
        "## Клонируем хранилище Github c RetinatNet"
      ]
    },
    {
      "cell_type": "code",
      "metadata": {
        "id": "nnmTHnOJhbaP",
        "colab_type": "code",
        "colab": {
          "base_uri": "https://localhost:8080/",
          "height": 102
        },
        "outputId": "bff36b69-a8db-44c1-e2e3-dcd13c2ac4cc"
      },
      "source": [
        "repo_url = 'https://github.com/fizyr/keras-retinanet'\n",
        "repo_dir_path = os.path.abspath(os.path.join('.', os.path.basename(repo_url))) \n",
        "\n",
        "!git clone {repo_url} # клонируем хранилище в ОП ноутбука Colab"
      ],
      "execution_count": null,
      "outputs": [
        {
          "output_type": "stream",
          "text": [
            "Cloning into 'keras-retinanet'...\n",
            "remote: Enumerating objects: 5862, done.\u001b[K\n",
            "remote: Total 5862 (delta 0), reused 0 (delta 0), pack-reused 5862\u001b[K\n",
            "Receiving objects: 100% (5862/5862), 13.40 MiB | 8.28 MiB/s, done.\n",
            "Resolving deltas: 100% (3948/3948), done.\n"
          ],
          "name": "stdout"
        }
      ]
    },
    {
      "cell_type": "code",
      "metadata": {
        "id": "iuxoUfRAioHG",
        "colab_type": "code",
        "colab": {
          "base_uri": "https://localhost:8080/",
          "height": 887
        },
        "outputId": "a215ab9f-9331-4c32-ffe0-c8a9be01f469"
      },
      "source": [
        "# Переходим в папку /content/keras-retinanet\n",
        "%cd {repo_dir_path} \n",
        "!pip install .\n",
        "!python setup.py build_ext --inplace\n",
        "\n",
        "%cd .."
      ],
      "execution_count": null,
      "outputs": [
        {
          "output_type": "stream",
          "text": [
            "/content/keras-retinanet\n",
            "Processing /content/keras-retinanet\n",
            "Requirement already satisfied: keras in /usr/local/lib/python3.6/dist-packages (from keras-retinanet==0.5.1) (2.3.1)\n",
            "Collecting keras-resnet==0.1.0\n",
            "  Downloading https://files.pythonhosted.org/packages/05/46/ad0b2d1a05d9497bd80c98a2c3f4d8be38a4601ace69af72814f5fafd851/keras-resnet-0.1.0.tar.gz\n",
            "Requirement already satisfied: six in /usr/local/lib/python3.6/dist-packages (from keras-retinanet==0.5.1) (1.12.0)\n",
            "Requirement already satisfied: scipy in /usr/local/lib/python3.6/dist-packages (from keras-retinanet==0.5.1) (1.4.1)\n",
            "Requirement already satisfied: cython in /usr/local/lib/python3.6/dist-packages (from keras-retinanet==0.5.1) (0.29.20)\n",
            "Requirement already satisfied: Pillow in /usr/local/lib/python3.6/dist-packages (from keras-retinanet==0.5.1) (7.0.0)\n",
            "Requirement already satisfied: opencv-python in /usr/local/lib/python3.6/dist-packages (from keras-retinanet==0.5.1) (4.1.2.30)\n",
            "Requirement already satisfied: progressbar2 in /usr/local/lib/python3.6/dist-packages (from keras-retinanet==0.5.1) (3.38.0)\n",
            "Requirement already satisfied: keras-preprocessing>=1.0.5 in /usr/local/lib/python3.6/dist-packages (from keras->keras-retinanet==0.5.1) (1.1.2)\n",
            "Requirement already satisfied: h5py in /usr/local/lib/python3.6/dist-packages (from keras->keras-retinanet==0.5.1) (2.10.0)\n",
            "Requirement already satisfied: keras-applications>=1.0.6 in /usr/local/lib/python3.6/dist-packages (from keras->keras-retinanet==0.5.1) (1.0.8)\n",
            "Requirement already satisfied: pyyaml in /usr/local/lib/python3.6/dist-packages (from keras->keras-retinanet==0.5.1) (3.13)\n",
            "Requirement already satisfied: numpy>=1.9.1 in /usr/local/lib/python3.6/dist-packages (from keras->keras-retinanet==0.5.1) (1.18.5)\n",
            "Requirement already satisfied: python-utils>=2.3.0 in /usr/local/lib/python3.6/dist-packages (from progressbar2->keras-retinanet==0.5.1) (2.4.0)\n",
            "Building wheels for collected packages: keras-retinanet, keras-resnet\n",
            "  Building wheel for keras-retinanet (setup.py) ... \u001b[?25l\u001b[?25hdone\n",
            "  Created wheel for keras-retinanet: filename=keras_retinanet-0.5.1-cp36-cp36m-linux_x86_64.whl size=170780 sha256=24f5c1f04fbf1236da44a4480f772c03d0f3420e44dfcab010c1324e6df759ea\n",
            "  Stored in directory: /root/.cache/pip/wheels/b2/9f/57/cb0305f6f5a41fc3c11ad67b8cedfbe9127775b563337827ba\n",
            "  Building wheel for keras-resnet (setup.py) ... \u001b[?25l\u001b[?25hdone\n",
            "  Created wheel for keras-resnet: filename=keras_resnet-0.1.0-py2.py3-none-any.whl size=13346 sha256=2e7feb62ceccac1bd5d3a0e1f6f9252a62d6240374407722bd87179763d8ef64\n",
            "  Stored in directory: /root/.cache/pip/wheels/80/dd/ac/842235b63dddac12faa4b48ebe58b8944e8c2e57c2e38dddb6\n",
            "Successfully built keras-retinanet keras-resnet\n",
            "Installing collected packages: keras-resnet, keras-retinanet\n",
            "Successfully installed keras-resnet-0.1.0 keras-retinanet-0.5.1\n",
            "running build_ext\n",
            "cythoning keras_retinanet/utils/compute_overlap.pyx to keras_retinanet/utils/compute_overlap.c\n",
            "/usr/local/lib/python3.6/dist-packages/Cython/Compiler/Main.py:369: FutureWarning: Cython directive 'language_level' not set, using 2 for now (Py2). This will change in a later release! File: /content/keras-retinanet/keras_retinanet/utils/compute_overlap.pyx\n",
            "  tree = Parsing.p_module(s, pxd, full_module_name)\n",
            "building 'keras_retinanet.utils.compute_overlap' extension\n",
            "creating build\n",
            "creating build/temp.linux-x86_64-3.6\n",
            "creating build/temp.linux-x86_64-3.6/keras_retinanet\n",
            "creating build/temp.linux-x86_64-3.6/keras_retinanet/utils\n",
            "x86_64-linux-gnu-gcc -pthread -DNDEBUG -g -fwrapv -O2 -Wall -g -fstack-protector-strong -Wformat -Werror=format-security -Wdate-time -D_FORTIFY_SOURCE=2 -fPIC -I/usr/include/python3.6m -I/usr/local/lib/python3.6/dist-packages/numpy/core/include -c keras_retinanet/utils/compute_overlap.c -o build/temp.linux-x86_64-3.6/keras_retinanet/utils/compute_overlap.o\n",
            "In file included from \u001b[01m\u001b[K/usr/local/lib/python3.6/dist-packages/numpy/core/include/numpy/ndarraytypes.h:1832:0\u001b[m\u001b[K,\n",
            "                 from \u001b[01m\u001b[K/usr/local/lib/python3.6/dist-packages/numpy/core/include/numpy/ndarrayobject.h:12\u001b[m\u001b[K,\n",
            "                 from \u001b[01m\u001b[K/usr/local/lib/python3.6/dist-packages/numpy/core/include/numpy/arrayobject.h:4\u001b[m\u001b[K,\n",
            "                 from \u001b[01m\u001b[Kkeras_retinanet/utils/compute_overlap.c:606\u001b[m\u001b[K:\n",
            "\u001b[01m\u001b[K/usr/local/lib/python3.6/dist-packages/numpy/core/include/numpy/npy_1_7_deprecated_api.h:17:2:\u001b[m\u001b[K \u001b[01;35m\u001b[Kwarning: \u001b[m\u001b[K#warning \"Using deprecated NumPy API, disable it with \" \"#define NPY_NO_DEPRECATED_API NPY_1_7_API_VERSION\" [\u001b[01;35m\u001b[K-Wcpp\u001b[m\u001b[K]\n",
            " #\u001b[01;35m\u001b[Kwarning\u001b[m\u001b[K \"Using deprecated NumPy API, disable it with \" \\\n",
            "  \u001b[01;35m\u001b[K^~~~~~~\u001b[m\u001b[K\n",
            "creating build/lib.linux-x86_64-3.6\n",
            "creating build/lib.linux-x86_64-3.6/keras_retinanet\n",
            "creating build/lib.linux-x86_64-3.6/keras_retinanet/utils\n",
            "x86_64-linux-gnu-gcc -pthread -shared -Wl,-O1 -Wl,-Bsymbolic-functions -Wl,-Bsymbolic-functions -Wl,-z,relro -Wl,-Bsymbolic-functions -Wl,-z,relro -g -fstack-protector-strong -Wformat -Werror=format-security -Wdate-time -D_FORTIFY_SOURCE=2 build/temp.linux-x86_64-3.6/keras_retinanet/utils/compute_overlap.o -o build/lib.linux-x86_64-3.6/keras_retinanet/utils/compute_overlap.cpython-36m-x86_64-linux-gnu.so\n",
            "copying build/lib.linux-x86_64-3.6/keras_retinanet/utils/compute_overlap.cpython-36m-x86_64-linux-gnu.so -> keras_retinanet/utils\n",
            "/content\n"
          ],
          "name": "stdout"
        }
      ]
    },
    {
      "cell_type": "markdown",
      "metadata": {
        "id": "ULtUGb0TUXjW",
        "colab_type": "text"
      },
      "source": [
        "## Клонируем репозиторий ije_retinanet"
      ]
    },
    {
      "cell_type": "code",
      "metadata": {
        "id": "4zf61BdHBIQh",
        "colab_type": "code",
        "colab": {
          "base_uri": "https://localhost:8080/",
          "height": 119
        },
        "outputId": "ccab5392-4bf6-4859-9f40-3dcd36850e2a"
      },
      "source": [
        "ije_repo_url = 'https://github.com/ijeism/ije_retinanet'\n",
        "ije_repo_dir_path = os.path.abspath(os.path.join('.', os.path.basename(ije_repo_url))) \n",
        "\n",
        "!git clone {ije_repo_url} # клонируем репозиторий\n",
        "# %cd {ije_repo_dir_path} \n",
        "# !git pull # pull repo"
      ],
      "execution_count": null,
      "outputs": [
        {
          "output_type": "stream",
          "text": [
            "Cloning into 'ije_retinanet'...\n",
            "remote: Enumerating objects: 78, done.\u001b[K\n",
            "remote: Counting objects:   1% (1/78)\u001b[K\rremote: Counting objects:   2% (2/78)\u001b[K\rremote: Counting objects:   3% (3/78)\u001b[K\rremote: Counting objects:   5% (4/78)\u001b[K\rremote: Counting objects:   6% (5/78)\u001b[K\rremote: Counting objects:   7% (6/78)\u001b[K\rremote: Counting objects:   8% (7/78)\u001b[K\rremote: Counting objects:  10% (8/78)\u001b[K\rremote: Counting objects:  11% (9/78)\u001b[K\rremote: Counting objects:  12% (10/78)\u001b[K\rremote: Counting objects:  14% (11/78)\u001b[K\rremote: Counting objects:  15% (12/78)\u001b[K\rremote: Counting objects:  16% (13/78)\u001b[K\rremote: Counting objects:  17% (14/78)\u001b[K\rremote: Counting objects:  19% (15/78)\u001b[K\rremote: Counting objects:  20% (16/78)\u001b[K\rremote: Counting objects:  21% (17/78)\u001b[K\rremote: Counting objects:  23% (18/78)\u001b[K\rremote: Counting objects:  24% (19/78)\u001b[K\rremote: Counting objects:  25% (20/78)\u001b[K\rremote: Counting objects:  26% (21/78)\u001b[K\rremote: Counting objects:  28% (22/78)\u001b[K\rremote: Counting objects:  29% (23/78)\u001b[K\rremote: Counting objects:  30% (24/78)\u001b[K\rremote: Counting objects:  32% (25/78)\u001b[K\rremote: Counting objects:  33% (26/78)\u001b[K\rremote: Counting objects:  34% (27/78)\u001b[K\rremote: Counting objects:  35% (28/78)\u001b[K\rremote: Counting objects:  37% (29/78)\u001b[K\rremote: Counting objects:  38% (30/78)\u001b[K\rremote: Counting objects:  39% (31/78)\u001b[K\rremote: Counting objects:  41% (32/78)\u001b[K\rremote: Counting objects:  42% (33/78)\u001b[K\rremote: Counting objects:  43% (34/78)\u001b[K\rremote: Counting objects:  44% (35/78)\u001b[K\rremote: Counting objects:  46% (36/78)\u001b[K\rremote: Counting objects:  47% (37/78)\u001b[K\rremote: Counting objects:  48% (38/78)\u001b[K\rremote: Counting objects:  50% (39/78)\u001b[K\rremote: Counting objects:  51% (40/78)\u001b[K\rremote: Counting objects:  52% (41/78)\u001b[K\rremote: Counting objects:  53% (42/78)\u001b[K\rremote: Counting objects:  55% (43/78)\u001b[K\rremote: Counting objects:  56% (44/78)\u001b[K\rremote: Counting objects:  57% (45/78)\u001b[K\rremote: Counting objects:  58% (46/78)\u001b[K\rremote: Counting objects:  60% (47/78)\u001b[K\rremote: Counting objects:  61% (48/78)\u001b[K\rremote: Counting objects:  62% (49/78)\u001b[K\rremote: Counting objects:  64% (50/78)\u001b[K\rremote: Counting objects:  65% (51/78)\u001b[K\rremote: Counting objects:  66% (52/78)\u001b[K\rremote: Counting objects:  67% (53/78)\u001b[K\rremote: Counting objects:  69% (54/78)\u001b[K\rremote: Counting objects:  70% (55/78)\u001b[K\rremote: Counting objects:  71% (56/78)\u001b[K\rremote: Counting objects:  73% (57/78)\u001b[K\rremote: Counting objects:  74% (58/78)\u001b[K\rremote: Counting objects:  75% (59/78)\u001b[K\rremote: Counting objects:  76% (60/78)\u001b[K\rremote: Counting objects:  78% (61/78)\u001b[K\rremote: Counting objects:  79% (62/78)\u001b[K\rremote: Counting objects:  80% (63/78)\u001b[K\rremote: Counting objects:  82% (64/78)\u001b[K\rremote: Counting objects:  83% (65/78)\u001b[K\rremote: Counting objects:  84% (66/78)\u001b[K\rremote: Counting objects:  85% (67/78)\u001b[K\rremote: Counting objects:  87% (68/78)\u001b[K\rremote: Counting objects:  88% (69/78)\u001b[K\rremote: Counting objects:  89% (70/78)\u001b[K\rremote: Counting objects:  91% (71/78)\u001b[K\rremote: Counting objects:  92% (72/78)\u001b[K\rremote: Counting objects:  93% (73/78)\u001b[K\rremote: Counting objects:  94% (74/78)\u001b[K\rremote: Counting objects:  96% (75/78)\u001b[K\rremote: Counting objects:  97% (76/78)\u001b[K\rremote: Counting objects:  98% (77/78)\u001b[K\rremote: Counting objects: 100% (78/78)\u001b[K\rremote: Counting objects: 100% (78/78), done.\u001b[K\n",
            "remote: Compressing objects: 100% (59/59), done.\u001b[K\n",
            "remote: Total 78 (delta 39), reused 41 (delta 15), pack-reused 0\u001b[K\n",
            "Unpacking objects: 100% (78/78), done.\n"
          ],
          "name": "stdout"
        }
      ]
    },
    {
      "cell_type": "markdown",
      "metadata": {
        "id": "C52QhHxVUlOV",
        "colab_type": "text"
      },
      "source": [
        "## Подготовка набора данных для обучения"
      ]
    },
    {
      "cell_type": "code",
      "metadata": {
        "id": "ezkMweLtY89N",
        "colab_type": "code",
        "colab": {
          "base_uri": "https://localhost:8080/",
          "height": 35
        },
        "outputId": "398d20ab-5047-478c-d576-7755a2843086"
      },
      "source": [
        "import os\n",
        "base_dir = os.getcwd()\n",
        "base_dir"
      ],
      "execution_count": null,
      "outputs": [
        {
          "output_type": "execute_result",
          "data": {
            "application/vnd.google.colaboratory.intrinsic": {
              "type": "string"
            },
            "text/plain": [
              "'/content'"
            ]
          },
          "metadata": {
            "tags": []
          },
          "execution_count": 19
        }
      ]
    },
    {
      "cell_type": "code",
      "metadata": {
        "id": "kMHG5QyxV1pC",
        "colab_type": "code",
        "colab": {}
      },
      "source": [
        "from shutil import copyfile\n",
        "import random"
      ],
      "execution_count": null,
      "outputs": []
    },
    {
      "cell_type": "code",
      "metadata": {
        "id": "_RPHInyjY5Mv",
        "colab_type": "code",
        "colab": {}
      },
      "source": [
        "# Выберем подвыборку размером N для первого обучения\n",
        "# determine number for subsample\n",
        "NUM = 800\n",
        "\n",
        "# Создаем папку для подвыборки\n",
        "sub_dir = base_dir + '/images_subset/'\n",
        "!mkdir {sub_dir}\n",
        "\n",
        "image_dir = base_dir + '/data/training_data/training_data/images/'\n",
        "image_paths = os.listdir(image_dir)\n",
        "random_NUM = random.sample(image_paths, NUM) # Рандомно выбираем 800 изображений\n",
        "\n",
        "# Копируем подвыборку в папку\n",
        "for i in random_NUM:\n",
        "    copyfile(image_dir + i, sub_dir + i )"
      ],
      "execution_count": null,
      "outputs": []
    },
    {
      "cell_type": "code",
      "metadata": {
        "id": "6qAIqJ-aeSYS",
        "colab_type": "code",
        "colab": {
          "base_uri": "https://localhost:8080/",
          "height": 51
        },
        "outputId": "71151830-e489-451b-b21a-867f1fc92f3d"
      },
      "source": [
        "# Проверим количество изображений в папке подвыборки\n",
        "%cd /content/images_subset/\n",
        "!ls -F |grep -v / | wc -l"
      ],
      "execution_count": null,
      "outputs": [
        {
          "output_type": "stream",
          "text": [
            "/content/images_subset\n",
            "800\n"
          ],
          "name": "stdout"
        }
      ]
    },
    {
      "cell_type": "code",
      "metadata": {
        "colab_type": "code",
        "id": "quXdcbNfUkPz",
        "colab": {
          "base_uri": "https://localhost:8080/",
          "height": 238
        },
        "outputId": "8a038b5d-8e7e-4d60-c6f1-19c5984082df"
      },
      "source": [
        "# Создаем необходимые файлы для обучения\n",
        "!python /content/ije_retinanet/build_dataset.py \\\n",
        "-l /content/data/training_data/training_data/labels/ \\\n",
        "-i /content/images_subset/ \\\n",
        "-r /content/images_subset/train.csv \\\n",
        "-e /content/images_subset/test.csv \\\n",
        "-c /content/images_subset/classes.csv "
      ],
      "execution_count": null,
      "outputs": [
        {
          "output_type": "stream",
          "text": [
            "[INFO] creating 'train' set ...\n",
            "[INFO] 640 total images in 'train'\n",
            "[INFO] writing train annotations ...\n",
            "[INFO] total 2509 annotations\n",
            "[INFO] train.csv completed\n",
            "[INFO] creating 'test' set ...\n",
            "[INFO] 160 total images in 'test'\n",
            "[INFO] writing test annotations ...\n",
            "[INFO] total 593 annotations\n",
            "[INFO] test.csv completed\n",
            "[INFO] writing classes ...\n",
            "[INFO] classes.csv completed\n",
            "[FINAL] Task completed!\n"
          ],
          "name": "stdout"
        }
      ]
    },
    {
      "cell_type": "code",
      "metadata": {
        "id": "gO1lk275-T2Y",
        "colab_type": "code",
        "colab": {}
      },
      "source": [
        "# ПРоверяем созданные файлы\n",
        "!ls -l"
      ],
      "execution_count": null,
      "outputs": []
    },
    {
      "cell_type": "markdown",
      "metadata": {
        "colab_type": "text",
        "id": "x4O6tTjYOl5m"
      },
      "source": [
        "## Скачиваем предварительно обученную модель"
      ]
    },
    {
      "cell_type": "code",
      "metadata": {
        "id": "etulxKW-XlgS",
        "colab_type": "code",
        "colab": {}
      },
      "source": [
        "import urllib.request"
      ],
      "execution_count": null,
      "outputs": []
    },
    {
      "cell_type": "code",
      "metadata": {
        "colab_type": "code",
        "id": "QRb9BVQ9TsE7",
        "colab": {
          "base_uri": "https://localhost:8080/",
          "height": 51
        },
        "outputId": "5aff755c-0a39-479d-a5b3-e9878d2f0434"
      },
      "source": [
        "# путь, по которому должны быть сохранены предварительно обученные веса \n",
        "PRETRAINED_MODEL = '/content/keras-retinanet/snapshots/resnet50_coco_best_v2.1.0.h5'\n",
        "# url модели\n",
        "URL_MODEL = 'https://github.com/fizyr/keras-retinanet/releases/download/0.5.1/resnet50_coco_best_v2.1.0.h5'\n",
        "# извлечь модель по URL модели и сохранить\n",
        "urllib.request.urlretrieve(URL_MODEL, PRETRAINED_MODEL)"
      ],
      "execution_count": null,
      "outputs": [
        {
          "output_type": "execute_result",
          "data": {
            "text/plain": [
              "('/content/keras-retinanet/snapshots/resnet50_coco_best_v2.1.0.h5',\n",
              " <http.client.HTTPMessage at 0x7fbef16eeef0>)"
            ]
          },
          "metadata": {
            "tags": []
          },
          "execution_count": 34
        }
      ]
    },
    {
      "cell_type": "markdown",
      "metadata": {
        "id": "KPKDUivQOxgD",
        "colab_type": "text"
      },
      "source": [
        "## Обучение CNN"
      ]
    },
    {
      "cell_type": "code",
      "metadata": {
        "id": "5gz4nEnMd3vr",
        "colab_type": "code",
        "colab": {
          "base_uri": "https://localhost:8080/",
          "height": 34
        },
        "outputId": "ce28f67e-baad-44fc-d42d-5ded463434a0"
      },
      "source": [
        "# Считаем количество аннотаций в файле train.csv\n",
        "!wc -l /content/images_subset/train.csv"
      ],
      "execution_count": null,
      "outputs": [
        {
          "output_type": "stream",
          "text": [
            "2509 /content/images_subset/train.csv\n"
          ],
          "name": "stdout"
        }
      ]
    },
    {
      "cell_type": "code",
      "metadata": {
        "id": "8iPw9c7D08un",
        "colab_type": "code",
        "colab": {
          "base_uri": "https://localhost:8080/",
          "height": 51
        },
        "outputId": "423def0a-a4be-4f16-a34c-21900b67c7ee"
      },
      "source": [
        "# вычисляем количество шагов на одну эпоху из расчета: annotations/batch-size\n",
        "\n",
        "import pandas as pd\n",
        "import math\n",
        "\n",
        "df = pd.read_csv('/content/images_subset/train.csv', header=None)\n",
        "count = len(df)\n",
        "no_steps = math.ceil(count/32)\n",
        "\n",
        "print(\"Count of annotations: {}\".format(count))\n",
        "print(\"Number of steps per epoch: {}\".format(no_steps))"
      ],
      "execution_count": null,
      "outputs": [
        {
          "output_type": "stream",
          "text": [
            "Count of annotations: 2509\n",
            "Number of steps per epoch: 79\n"
          ],
          "name": "stdout"
        }
      ]
    },
    {
      "cell_type": "code",
      "metadata": {
        "id": "AKCJNQcA_AJG",
        "colab_type": "code",
        "colab": {
          "base_uri": "https://localhost:8080/",
          "height": 34
        },
        "outputId": "6c19baec-7e53-4b8f-d3da-fde5242562de"
      },
      "source": [
        "# Создаем отдельную папку для первого обучения и переходим в директорию\n",
        "!mkdir /content/run_1/\n",
        "%cd /content/run_1/"
      ],
      "execution_count": null,
      "outputs": [
        {
          "output_type": "stream",
          "text": [
            "/content/run_1\n"
          ],
          "name": "stdout"
        }
      ]
    },
    {
      "cell_type": "code",
      "metadata": {
        "id": "BMPr8a080imB",
        "colab_type": "code",
        "colab": {
          "base_uri": "https://localhost:8080/",
          "height": 1000
        },
        "outputId": "b3aed892-debe-4832-9165-da33c1416316"
      },
      "source": [
        "!python /content/keras-retinanet/keras_retinanet/bin/train.py \\\n",
        "--freeze-backbone \\\n",
        "--random-transform \\\n",
        "--weights {PRETRAINED_MODEL} \\\n",
        "--weighted-average \\\n",
        "--batch-size 32 \\\n",
        "--steps {no_steps} \\\n",
        "--epochs 30 \\\n",
        "csv '/content/images_subset/train.csv' '/content/images_subset/classes.csv'"
      ],
      "execution_count": null,
      "outputs": [
        {
          "output_type": "stream",
          "text": [
            "Using TensorFlow backend.\n",
            "2020-07-08 15:13:28.663031: I tensorflow/stream_executor/platform/default/dso_loader.cc:44] Successfully opened dynamic library libcudart.so.10.1\n",
            "Creating model, this may take a second...\n",
            "2020-07-08 15:13:31.309882: I tensorflow/stream_executor/platform/default/dso_loader.cc:44] Successfully opened dynamic library libcuda.so.1\n",
            "2020-07-08 15:13:31.367223: I tensorflow/stream_executor/cuda/cuda_gpu_executor.cc:981] successful NUMA node read from SysFS had negative value (-1), but there must be at least one NUMA node, so returning NUMA node zero\n",
            "2020-07-08 15:13:31.368091: I tensorflow/core/common_runtime/gpu/gpu_device.cc:1561] Found device 0 with properties: \n",
            "pciBusID: 0000:00:04.0 name: Tesla K80 computeCapability: 3.7\n",
            "coreClock: 0.8235GHz coreCount: 13 deviceMemorySize: 11.17GiB deviceMemoryBandwidth: 223.96GiB/s\n",
            "2020-07-08 15:13:31.368155: I tensorflow/stream_executor/platform/default/dso_loader.cc:44] Successfully opened dynamic library libcudart.so.10.1\n",
            "2020-07-08 15:13:31.637960: I tensorflow/stream_executor/platform/default/dso_loader.cc:44] Successfully opened dynamic library libcublas.so.10\n",
            "2020-07-08 15:13:31.769946: I tensorflow/stream_executor/platform/default/dso_loader.cc:44] Successfully opened dynamic library libcufft.so.10\n",
            "2020-07-08 15:13:31.802828: I tensorflow/stream_executor/platform/default/dso_loader.cc:44] Successfully opened dynamic library libcurand.so.10\n",
            "2020-07-08 15:13:32.083025: I tensorflow/stream_executor/platform/default/dso_loader.cc:44] Successfully opened dynamic library libcusolver.so.10\n",
            "2020-07-08 15:13:32.131696: I tensorflow/stream_executor/platform/default/dso_loader.cc:44] Successfully opened dynamic library libcusparse.so.10\n",
            "2020-07-08 15:13:32.654794: I tensorflow/stream_executor/platform/default/dso_loader.cc:44] Successfully opened dynamic library libcudnn.so.7\n",
            "2020-07-08 15:13:32.655032: I tensorflow/stream_executor/cuda/cuda_gpu_executor.cc:981] successful NUMA node read from SysFS had negative value (-1), but there must be at least one NUMA node, so returning NUMA node zero\n",
            "2020-07-08 15:13:32.655949: I tensorflow/stream_executor/cuda/cuda_gpu_executor.cc:981] successful NUMA node read from SysFS had negative value (-1), but there must be at least one NUMA node, so returning NUMA node zero\n",
            "2020-07-08 15:13:32.656713: I tensorflow/core/common_runtime/gpu/gpu_device.cc:1703] Adding visible gpu devices: 0\n",
            "2020-07-08 15:13:32.684231: I tensorflow/core/platform/profile_utils/cpu_utils.cc:102] CPU Frequency: 2300000000 Hz\n",
            "2020-07-08 15:13:32.684471: I tensorflow/compiler/xla/service/service.cc:168] XLA service 0x2e30bc0 initialized for platform Host (this does not guarantee that XLA will be used). Devices:\n",
            "2020-07-08 15:13:32.684522: I tensorflow/compiler/xla/service/service.cc:176]   StreamExecutor device (0): Host, Default Version\n",
            "2020-07-08 15:13:32.808041: I tensorflow/stream_executor/cuda/cuda_gpu_executor.cc:981] successful NUMA node read from SysFS had negative value (-1), but there must be at least one NUMA node, so returning NUMA node zero\n",
            "2020-07-08 15:13:32.809101: I tensorflow/compiler/xla/service/service.cc:168] XLA service 0x2e30d80 initialized for platform CUDA (this does not guarantee that XLA will be used). Devices:\n",
            "2020-07-08 15:13:32.809145: I tensorflow/compiler/xla/service/service.cc:176]   StreamExecutor device (0): Tesla K80, Compute Capability 3.7\n",
            "2020-07-08 15:13:32.810736: I tensorflow/stream_executor/cuda/cuda_gpu_executor.cc:981] successful NUMA node read from SysFS had negative value (-1), but there must be at least one NUMA node, so returning NUMA node zero\n",
            "2020-07-08 15:13:32.811434: I tensorflow/core/common_runtime/gpu/gpu_device.cc:1561] Found device 0 with properties: \n",
            "pciBusID: 0000:00:04.0 name: Tesla K80 computeCapability: 3.7\n",
            "coreClock: 0.8235GHz coreCount: 13 deviceMemorySize: 11.17GiB deviceMemoryBandwidth: 223.96GiB/s\n",
            "2020-07-08 15:13:32.811517: I tensorflow/stream_executor/platform/default/dso_loader.cc:44] Successfully opened dynamic library libcudart.so.10.1\n",
            "2020-07-08 15:13:32.811598: I tensorflow/stream_executor/platform/default/dso_loader.cc:44] Successfully opened dynamic library libcublas.so.10\n",
            "2020-07-08 15:13:32.811648: I tensorflow/stream_executor/platform/default/dso_loader.cc:44] Successfully opened dynamic library libcufft.so.10\n",
            "2020-07-08 15:13:32.811691: I tensorflow/stream_executor/platform/default/dso_loader.cc:44] Successfully opened dynamic library libcurand.so.10\n",
            "2020-07-08 15:13:32.811739: I tensorflow/stream_executor/platform/default/dso_loader.cc:44] Successfully opened dynamic library libcusolver.so.10\n",
            "2020-07-08 15:13:32.811792: I tensorflow/stream_executor/platform/default/dso_loader.cc:44] Successfully opened dynamic library libcusparse.so.10\n",
            "2020-07-08 15:13:32.811836: I tensorflow/stream_executor/platform/default/dso_loader.cc:44] Successfully opened dynamic library libcudnn.so.7\n",
            "2020-07-08 15:13:32.811973: I tensorflow/stream_executor/cuda/cuda_gpu_executor.cc:981] successful NUMA node read from SysFS had negative value (-1), but there must be at least one NUMA node, so returning NUMA node zero\n",
            "2020-07-08 15:13:32.812783: I tensorflow/stream_executor/cuda/cuda_gpu_executor.cc:981] successful NUMA node read from SysFS had negative value (-1), but there must be at least one NUMA node, so returning NUMA node zero\n",
            "2020-07-08 15:13:32.813444: I tensorflow/core/common_runtime/gpu/gpu_device.cc:1703] Adding visible gpu devices: 0\n",
            "2020-07-08 15:13:32.818483: I tensorflow/stream_executor/platform/default/dso_loader.cc:44] Successfully opened dynamic library libcudart.so.10.1\n",
            "2020-07-08 15:13:38.412152: I tensorflow/core/common_runtime/gpu/gpu_device.cc:1102] Device interconnect StreamExecutor with strength 1 edge matrix:\n",
            "2020-07-08 15:13:38.412208: I tensorflow/core/common_runtime/gpu/gpu_device.cc:1108]      0 \n",
            "2020-07-08 15:13:38.412229: I tensorflow/core/common_runtime/gpu/gpu_device.cc:1121] 0:   N \n",
            "2020-07-08 15:13:38.418774: I tensorflow/stream_executor/cuda/cuda_gpu_executor.cc:981] successful NUMA node read from SysFS had negative value (-1), but there must be at least one NUMA node, so returning NUMA node zero\n",
            "2020-07-08 15:13:38.419695: I tensorflow/stream_executor/cuda/cuda_gpu_executor.cc:981] successful NUMA node read from SysFS had negative value (-1), but there must be at least one NUMA node, so returning NUMA node zero\n",
            "2020-07-08 15:13:38.420406: W tensorflow/core/common_runtime/gpu/gpu_bfc_allocator.cc:39] Overriding allow_growth setting because the TF_FORCE_GPU_ALLOW_GROWTH environment variable is set. Original config value was 0.\n",
            "2020-07-08 15:13:38.420540: I tensorflow/core/common_runtime/gpu/gpu_device.cc:1247] Created TensorFlow device (/job:localhost/replica:0/task:0/device:GPU:0 with 10634 MB memory) -> physical GPU (device: 0, name: Tesla K80, pci bus id: 0000:00:04.0, compute capability: 3.7)\n",
            "/usr/local/lib/python3.6/dist-packages/keras/engine/saving.py:1319: UserWarning: Skipping loading of weights for layer classification_submodel due to mismatch in shape ((3, 3, 256, 18) vs (720, 256, 3, 3)).\n",
            "  weight_values[i].shape))\n",
            "/usr/local/lib/python3.6/dist-packages/keras/engine/saving.py:1319: UserWarning: Skipping loading of weights for layer classification_submodel due to mismatch in shape ((18,) vs (720,)).\n",
            "  weight_values[i].shape))\n",
            "tracking <tf.Variable 'Variable:0' shape=(9, 4) dtype=float32, numpy=\n",
            "array([[-22.627417, -11.313708,  22.627417,  11.313708],\n",
            "       [-28.50876 , -14.25438 ,  28.50876 ,  14.25438 ],\n",
            "       [-35.918785, -17.959393,  35.918785,  17.959393],\n",
            "       [-16.      , -16.      ,  16.      ,  16.      ],\n",
            "       [-20.158737, -20.158737,  20.158737,  20.158737],\n",
            "       [-25.398417, -25.398417,  25.398417,  25.398417],\n",
            "       [-11.313708, -22.627417,  11.313708,  22.627417],\n",
            "       [-14.25438 , -28.50876 ,  14.25438 ,  28.50876 ],\n",
            "       [-17.959393, -35.918785,  17.959393,  35.918785]], dtype=float32)> anchors\n",
            "tracking <tf.Variable 'Variable:0' shape=(9, 4) dtype=float32, numpy=\n",
            "array([[-45.254833, -22.627417,  45.254833,  22.627417],\n",
            "       [-57.01752 , -28.50876 ,  57.01752 ,  28.50876 ],\n",
            "       [-71.83757 , -35.918785,  71.83757 ,  35.918785],\n",
            "       [-32.      , -32.      ,  32.      ,  32.      ],\n",
            "       [-40.317474, -40.317474,  40.317474,  40.317474],\n",
            "       [-50.796833, -50.796833,  50.796833,  50.796833],\n",
            "       [-22.627417, -45.254833,  22.627417,  45.254833],\n",
            "       [-28.50876 , -57.01752 ,  28.50876 ,  57.01752 ],\n",
            "       [-35.918785, -71.83757 ,  35.918785,  71.83757 ]], dtype=float32)> anchors\n",
            "tracking <tf.Variable 'Variable:0' shape=(9, 4) dtype=float32, numpy=\n",
            "array([[ -90.50967 ,  -45.254833,   90.50967 ,   45.254833],\n",
            "       [-114.03504 ,  -57.01752 ,  114.03504 ,   57.01752 ],\n",
            "       [-143.67514 ,  -71.83757 ,  143.67514 ,   71.83757 ],\n",
            "       [ -64.      ,  -64.      ,   64.      ,   64.      ],\n",
            "       [ -80.63495 ,  -80.63495 ,   80.63495 ,   80.63495 ],\n",
            "       [-101.593666, -101.593666,  101.593666,  101.593666],\n",
            "       [ -45.254833,  -90.50967 ,   45.254833,   90.50967 ],\n",
            "       [ -57.01752 , -114.03504 ,   57.01752 ,  114.03504 ],\n",
            "       [ -71.83757 , -143.67514 ,   71.83757 ,  143.67514 ]],\n",
            "      dtype=float32)> anchors\n",
            "tracking <tf.Variable 'Variable:0' shape=(9, 4) dtype=float32, numpy=\n",
            "array([[-181.01933,  -90.50967,  181.01933,   90.50967],\n",
            "       [-228.07008, -114.03504,  228.07008,  114.03504],\n",
            "       [-287.35028, -143.67514,  287.35028,  143.67514],\n",
            "       [-128.     , -128.     ,  128.     ,  128.     ],\n",
            "       [-161.2699 , -161.2699 ,  161.2699 ,  161.2699 ],\n",
            "       [-203.18733, -203.18733,  203.18733,  203.18733],\n",
            "       [ -90.50967, -181.01933,   90.50967,  181.01933],\n",
            "       [-114.03504, -228.07008,  114.03504,  228.07008],\n",
            "       [-143.67514, -287.35028,  143.67514,  287.35028]], dtype=float32)> anchors\n",
            "tracking <tf.Variable 'Variable:0' shape=(9, 4) dtype=float32, numpy=\n",
            "array([[-362.03867, -181.01933,  362.03867,  181.01933],\n",
            "       [-456.14017, -228.07008,  456.14017,  228.07008],\n",
            "       [-574.70056, -287.35028,  574.70056,  287.35028],\n",
            "       [-256.     , -256.     ,  256.     ,  256.     ],\n",
            "       [-322.5398 , -322.5398 ,  322.5398 ,  322.5398 ],\n",
            "       [-406.37466, -406.37466,  406.37466,  406.37466],\n",
            "       [-181.01933, -362.03867,  181.01933,  362.03867],\n",
            "       [-228.07008, -456.14017,  228.07008,  456.14017],\n",
            "       [-287.35028, -574.70056,  287.35028,  574.70056]], dtype=float32)> anchors\n",
            "Model: \"retinanet\"\n",
            "__________________________________________________________________________________________________\n",
            "Layer (type)                    Output Shape         Param #     Connected to                     \n",
            "==================================================================================================\n",
            "input_1 (InputLayer)            (None, None, None, 3 0                                            \n",
            "__________________________________________________________________________________________________\n",
            "padding_conv1 (ZeroPadding2D)   (None, None, None, 3 0           input_1[0][0]                    \n",
            "__________________________________________________________________________________________________\n",
            "conv1 (Conv2D)                  (None, None, None, 6 9408        padding_conv1[0][0]              \n",
            "__________________________________________________________________________________________________\n",
            "bn_conv1 (BatchNormalization)   (None, None, None, 6 256         conv1[0][0]                      \n",
            "__________________________________________________________________________________________________\n",
            "conv1_relu (Activation)         (None, None, None, 6 0           bn_conv1[0][0]                   \n",
            "__________________________________________________________________________________________________\n",
            "pool1 (MaxPooling2D)            (None, None, None, 6 0           conv1_relu[0][0]                 \n",
            "__________________________________________________________________________________________________\n",
            "res2a_branch2a (Conv2D)         (None, None, None, 6 4096        pool1[0][0]                      \n",
            "__________________________________________________________________________________________________\n",
            "bn2a_branch2a (BatchNormalizati (None, None, None, 6 256         res2a_branch2a[0][0]             \n",
            "__________________________________________________________________________________________________\n",
            "res2a_branch2a_relu (Activation (None, None, None, 6 0           bn2a_branch2a[0][0]              \n",
            "__________________________________________________________________________________________________\n",
            "padding2a_branch2b (ZeroPadding (None, None, None, 6 0           res2a_branch2a_relu[0][0]        \n",
            "__________________________________________________________________________________________________\n",
            "res2a_branch2b (Conv2D)         (None, None, None, 6 36864       padding2a_branch2b[0][0]         \n",
            "__________________________________________________________________________________________________\n",
            "bn2a_branch2b (BatchNormalizati (None, None, None, 6 256         res2a_branch2b[0][0]             \n",
            "__________________________________________________________________________________________________\n",
            "res2a_branch2b_relu (Activation (None, None, None, 6 0           bn2a_branch2b[0][0]              \n",
            "__________________________________________________________________________________________________\n",
            "res2a_branch2c (Conv2D)         (None, None, None, 2 16384       res2a_branch2b_relu[0][0]        \n",
            "__________________________________________________________________________________________________\n",
            "res2a_branch1 (Conv2D)          (None, None, None, 2 16384       pool1[0][0]                      \n",
            "__________________________________________________________________________________________________\n",
            "bn2a_branch2c (BatchNormalizati (None, None, None, 2 1024        res2a_branch2c[0][0]             \n",
            "__________________________________________________________________________________________________\n",
            "bn2a_branch1 (BatchNormalizatio (None, None, None, 2 1024        res2a_branch1[0][0]              \n",
            "__________________________________________________________________________________________________\n",
            "res2a (Add)                     (None, None, None, 2 0           bn2a_branch2c[0][0]              \n",
            "                                                                 bn2a_branch1[0][0]               \n",
            "__________________________________________________________________________________________________\n",
            "res2a_relu (Activation)         (None, None, None, 2 0           res2a[0][0]                      \n",
            "__________________________________________________________________________________________________\n",
            "res2b_branch2a (Conv2D)         (None, None, None, 6 16384       res2a_relu[0][0]                 \n",
            "__________________________________________________________________________________________________\n",
            "bn2b_branch2a (BatchNormalizati (None, None, None, 6 256         res2b_branch2a[0][0]             \n",
            "__________________________________________________________________________________________________\n",
            "res2b_branch2a_relu (Activation (None, None, None, 6 0           bn2b_branch2a[0][0]              \n",
            "__________________________________________________________________________________________________\n",
            "padding2b_branch2b (ZeroPadding (None, None, None, 6 0           res2b_branch2a_relu[0][0]        \n",
            "__________________________________________________________________________________________________\n",
            "res2b_branch2b (Conv2D)         (None, None, None, 6 36864       padding2b_branch2b[0][0]         \n",
            "__________________________________________________________________________________________________\n",
            "bn2b_branch2b (BatchNormalizati (None, None, None, 6 256         res2b_branch2b[0][0]             \n",
            "__________________________________________________________________________________________________\n",
            "res2b_branch2b_relu (Activation (None, None, None, 6 0           bn2b_branch2b[0][0]              \n",
            "__________________________________________________________________________________________________\n",
            "res2b_branch2c (Conv2D)         (None, None, None, 2 16384       res2b_branch2b_relu[0][0]        \n",
            "__________________________________________________________________________________________________\n",
            "bn2b_branch2c (BatchNormalizati (None, None, None, 2 1024        res2b_branch2c[0][0]             \n",
            "__________________________________________________________________________________________________\n",
            "res2b (Add)                     (None, None, None, 2 0           bn2b_branch2c[0][0]              \n",
            "                                                                 res2a_relu[0][0]                 \n",
            "__________________________________________________________________________________________________\n",
            "res2b_relu (Activation)         (None, None, None, 2 0           res2b[0][0]                      \n",
            "__________________________________________________________________________________________________\n",
            "res2c_branch2a (Conv2D)         (None, None, None, 6 16384       res2b_relu[0][0]                 \n",
            "__________________________________________________________________________________________________\n",
            "bn2c_branch2a (BatchNormalizati (None, None, None, 6 256         res2c_branch2a[0][0]             \n",
            "__________________________________________________________________________________________________\n",
            "res2c_branch2a_relu (Activation (None, None, None, 6 0           bn2c_branch2a[0][0]              \n",
            "__________________________________________________________________________________________________\n",
            "padding2c_branch2b (ZeroPadding (None, None, None, 6 0           res2c_branch2a_relu[0][0]        \n",
            "__________________________________________________________________________________________________\n",
            "res2c_branch2b (Conv2D)         (None, None, None, 6 36864       padding2c_branch2b[0][0]         \n",
            "__________________________________________________________________________________________________\n",
            "bn2c_branch2b (BatchNormalizati (None, None, None, 6 256         res2c_branch2b[0][0]             \n",
            "__________________________________________________________________________________________________\n",
            "res2c_branch2b_relu (Activation (None, None, None, 6 0           bn2c_branch2b[0][0]              \n",
            "__________________________________________________________________________________________________\n",
            "res2c_branch2c (Conv2D)         (None, None, None, 2 16384       res2c_branch2b_relu[0][0]        \n",
            "__________________________________________________________________________________________________\n",
            "bn2c_branch2c (BatchNormalizati (None, None, None, 2 1024        res2c_branch2c[0][0]             \n",
            "__________________________________________________________________________________________________\n",
            "res2c (Add)                     (None, None, None, 2 0           bn2c_branch2c[0][0]              \n",
            "                                                                 res2b_relu[0][0]                 \n",
            "__________________________________________________________________________________________________\n",
            "res2c_relu (Activation)         (None, None, None, 2 0           res2c[0][0]                      \n",
            "__________________________________________________________________________________________________\n",
            "res3a_branch2a (Conv2D)         (None, None, None, 1 32768       res2c_relu[0][0]                 \n",
            "__________________________________________________________________________________________________\n",
            "bn3a_branch2a (BatchNormalizati (None, None, None, 1 512         res3a_branch2a[0][0]             \n",
            "__________________________________________________________________________________________________\n",
            "res3a_branch2a_relu (Activation (None, None, None, 1 0           bn3a_branch2a[0][0]              \n",
            "__________________________________________________________________________________________________\n",
            "padding3a_branch2b (ZeroPadding (None, None, None, 1 0           res3a_branch2a_relu[0][0]        \n",
            "__________________________________________________________________________________________________\n",
            "res3a_branch2b (Conv2D)         (None, None, None, 1 147456      padding3a_branch2b[0][0]         \n",
            "__________________________________________________________________________________________________\n",
            "bn3a_branch2b (BatchNormalizati (None, None, None, 1 512         res3a_branch2b[0][0]             \n",
            "__________________________________________________________________________________________________\n",
            "res3a_branch2b_relu (Activation (None, None, None, 1 0           bn3a_branch2b[0][0]              \n",
            "__________________________________________________________________________________________________\n",
            "res3a_branch2c (Conv2D)         (None, None, None, 5 65536       res3a_branch2b_relu[0][0]        \n",
            "__________________________________________________________________________________________________\n",
            "res3a_branch1 (Conv2D)          (None, None, None, 5 131072      res2c_relu[0][0]                 \n",
            "__________________________________________________________________________________________________\n",
            "bn3a_branch2c (BatchNormalizati (None, None, None, 5 2048        res3a_branch2c[0][0]             \n",
            "__________________________________________________________________________________________________\n",
            "bn3a_branch1 (BatchNormalizatio (None, None, None, 5 2048        res3a_branch1[0][0]              \n",
            "__________________________________________________________________________________________________\n",
            "res3a (Add)                     (None, None, None, 5 0           bn3a_branch2c[0][0]              \n",
            "                                                                 bn3a_branch1[0][0]               \n",
            "__________________________________________________________________________________________________\n",
            "res3a_relu (Activation)         (None, None, None, 5 0           res3a[0][0]                      \n",
            "__________________________________________________________________________________________________\n",
            "res3b_branch2a (Conv2D)         (None, None, None, 1 65536       res3a_relu[0][0]                 \n",
            "__________________________________________________________________________________________________\n",
            "bn3b_branch2a (BatchNormalizati (None, None, None, 1 512         res3b_branch2a[0][0]             \n",
            "__________________________________________________________________________________________________\n",
            "res3b_branch2a_relu (Activation (None, None, None, 1 0           bn3b_branch2a[0][0]              \n",
            "__________________________________________________________________________________________________\n",
            "padding3b_branch2b (ZeroPadding (None, None, None, 1 0           res3b_branch2a_relu[0][0]        \n",
            "__________________________________________________________________________________________________\n",
            "res3b_branch2b (Conv2D)         (None, None, None, 1 147456      padding3b_branch2b[0][0]         \n",
            "__________________________________________________________________________________________________\n",
            "bn3b_branch2b (BatchNormalizati (None, None, None, 1 512         res3b_branch2b[0][0]             \n",
            "__________________________________________________________________________________________________\n",
            "res3b_branch2b_relu (Activation (None, None, None, 1 0           bn3b_branch2b[0][0]              \n",
            "__________________________________________________________________________________________________\n",
            "res3b_branch2c (Conv2D)         (None, None, None, 5 65536       res3b_branch2b_relu[0][0]        \n",
            "__________________________________________________________________________________________________\n",
            "bn3b_branch2c (BatchNormalizati (None, None, None, 5 2048        res3b_branch2c[0][0]             \n",
            "__________________________________________________________________________________________________\n",
            "res3b (Add)                     (None, None, None, 5 0           bn3b_branch2c[0][0]              \n",
            "                                                                 res3a_relu[0][0]                 \n",
            "__________________________________________________________________________________________________\n",
            "res3b_relu (Activation)         (None, None, None, 5 0           res3b[0][0]                      \n",
            "__________________________________________________________________________________________________\n",
            "res3c_branch2a (Conv2D)         (None, None, None, 1 65536       res3b_relu[0][0]                 \n",
            "__________________________________________________________________________________________________\n",
            "bn3c_branch2a (BatchNormalizati (None, None, None, 1 512         res3c_branch2a[0][0]             \n",
            "__________________________________________________________________________________________________\n",
            "res3c_branch2a_relu (Activation (None, None, None, 1 0           bn3c_branch2a[0][0]              \n",
            "__________________________________________________________________________________________________\n",
            "padding3c_branch2b (ZeroPadding (None, None, None, 1 0           res3c_branch2a_relu[0][0]        \n",
            "__________________________________________________________________________________________________\n",
            "res3c_branch2b (Conv2D)         (None, None, None, 1 147456      padding3c_branch2b[0][0]         \n",
            "__________________________________________________________________________________________________\n",
            "bn3c_branch2b (BatchNormalizati (None, None, None, 1 512         res3c_branch2b[0][0]             \n",
            "__________________________________________________________________________________________________\n",
            "res3c_branch2b_relu (Activation (None, None, None, 1 0           bn3c_branch2b[0][0]              \n",
            "__________________________________________________________________________________________________\n",
            "res3c_branch2c (Conv2D)         (None, None, None, 5 65536       res3c_branch2b_relu[0][0]        \n",
            "__________________________________________________________________________________________________\n",
            "bn3c_branch2c (BatchNormalizati (None, None, None, 5 2048        res3c_branch2c[0][0]             \n",
            "__________________________________________________________________________________________________\n",
            "res3c (Add)                     (None, None, None, 5 0           bn3c_branch2c[0][0]              \n",
            "                                                                 res3b_relu[0][0]                 \n",
            "__________________________________________________________________________________________________\n",
            "res3c_relu (Activation)         (None, None, None, 5 0           res3c[0][0]                      \n",
            "__________________________________________________________________________________________________\n",
            "res3d_branch2a (Conv2D)         (None, None, None, 1 65536       res3c_relu[0][0]                 \n",
            "__________________________________________________________________________________________________\n",
            "bn3d_branch2a (BatchNormalizati (None, None, None, 1 512         res3d_branch2a[0][0]             \n",
            "__________________________________________________________________________________________________\n",
            "res3d_branch2a_relu (Activation (None, None, None, 1 0           bn3d_branch2a[0][0]              \n",
            "__________________________________________________________________________________________________\n",
            "padding3d_branch2b (ZeroPadding (None, None, None, 1 0           res3d_branch2a_relu[0][0]        \n",
            "__________________________________________________________________________________________________\n",
            "res3d_branch2b (Conv2D)         (None, None, None, 1 147456      padding3d_branch2b[0][0]         \n",
            "__________________________________________________________________________________________________\n",
            "bn3d_branch2b (BatchNormalizati (None, None, None, 1 512         res3d_branch2b[0][0]             \n",
            "__________________________________________________________________________________________________\n",
            "res3d_branch2b_relu (Activation (None, None, None, 1 0           bn3d_branch2b[0][0]              \n",
            "__________________________________________________________________________________________________\n",
            "res3d_branch2c (Conv2D)         (None, None, None, 5 65536       res3d_branch2b_relu[0][0]        \n",
            "__________________________________________________________________________________________________\n",
            "bn3d_branch2c (BatchNormalizati (None, None, None, 5 2048        res3d_branch2c[0][0]             \n",
            "__________________________________________________________________________________________________\n",
            "res3d (Add)                     (None, None, None, 5 0           bn3d_branch2c[0][0]              \n",
            "                                                                 res3c_relu[0][0]                 \n",
            "__________________________________________________________________________________________________\n",
            "res3d_relu (Activation)         (None, None, None, 5 0           res3d[0][0]                      \n",
            "__________________________________________________________________________________________________\n",
            "res4a_branch2a (Conv2D)         (None, None, None, 2 131072      res3d_relu[0][0]                 \n",
            "__________________________________________________________________________________________________\n",
            "bn4a_branch2a (BatchNormalizati (None, None, None, 2 1024        res4a_branch2a[0][0]             \n",
            "__________________________________________________________________________________________________\n",
            "res4a_branch2a_relu (Activation (None, None, None, 2 0           bn4a_branch2a[0][0]              \n",
            "__________________________________________________________________________________________________\n",
            "padding4a_branch2b (ZeroPadding (None, None, None, 2 0           res4a_branch2a_relu[0][0]        \n",
            "__________________________________________________________________________________________________\n",
            "res4a_branch2b (Conv2D)         (None, None, None, 2 589824      padding4a_branch2b[0][0]         \n",
            "__________________________________________________________________________________________________\n",
            "bn4a_branch2b (BatchNormalizati (None, None, None, 2 1024        res4a_branch2b[0][0]             \n",
            "__________________________________________________________________________________________________\n",
            "res4a_branch2b_relu (Activation (None, None, None, 2 0           bn4a_branch2b[0][0]              \n",
            "__________________________________________________________________________________________________\n",
            "res4a_branch2c (Conv2D)         (None, None, None, 1 262144      res4a_branch2b_relu[0][0]        \n",
            "__________________________________________________________________________________________________\n",
            "res4a_branch1 (Conv2D)          (None, None, None, 1 524288      res3d_relu[0][0]                 \n",
            "__________________________________________________________________________________________________\n",
            "bn4a_branch2c (BatchNormalizati (None, None, None, 1 4096        res4a_branch2c[0][0]             \n",
            "__________________________________________________________________________________________________\n",
            "bn4a_branch1 (BatchNormalizatio (None, None, None, 1 4096        res4a_branch1[0][0]              \n",
            "__________________________________________________________________________________________________\n",
            "res4a (Add)                     (None, None, None, 1 0           bn4a_branch2c[0][0]              \n",
            "                                                                 bn4a_branch1[0][0]               \n",
            "__________________________________________________________________________________________________\n",
            "res4a_relu (Activation)         (None, None, None, 1 0           res4a[0][0]                      \n",
            "__________________________________________________________________________________________________\n",
            "res4b_branch2a (Conv2D)         (None, None, None, 2 262144      res4a_relu[0][0]                 \n",
            "__________________________________________________________________________________________________\n",
            "bn4b_branch2a (BatchNormalizati (None, None, None, 2 1024        res4b_branch2a[0][0]             \n",
            "__________________________________________________________________________________________________\n",
            "res4b_branch2a_relu (Activation (None, None, None, 2 0           bn4b_branch2a[0][0]              \n",
            "__________________________________________________________________________________________________\n",
            "padding4b_branch2b (ZeroPadding (None, None, None, 2 0           res4b_branch2a_relu[0][0]        \n",
            "__________________________________________________________________________________________________\n",
            "res4b_branch2b (Conv2D)         (None, None, None, 2 589824      padding4b_branch2b[0][0]         \n",
            "__________________________________________________________________________________________________\n",
            "bn4b_branch2b (BatchNormalizati (None, None, None, 2 1024        res4b_branch2b[0][0]             \n",
            "__________________________________________________________________________________________________\n",
            "res4b_branch2b_relu (Activation (None, None, None, 2 0           bn4b_branch2b[0][0]              \n",
            "__________________________________________________________________________________________________\n",
            "res4b_branch2c (Conv2D)         (None, None, None, 1 262144      res4b_branch2b_relu[0][0]        \n",
            "__________________________________________________________________________________________________\n",
            "bn4b_branch2c (BatchNormalizati (None, None, None, 1 4096        res4b_branch2c[0][0]             \n",
            "__________________________________________________________________________________________________\n",
            "res4b (Add)                     (None, None, None, 1 0           bn4b_branch2c[0][0]              \n",
            "                                                                 res4a_relu[0][0]                 \n",
            "__________________________________________________________________________________________________\n",
            "res4b_relu (Activation)         (None, None, None, 1 0           res4b[0][0]                      \n",
            "__________________________________________________________________________________________________\n",
            "res4c_branch2a (Conv2D)         (None, None, None, 2 262144      res4b_relu[0][0]                 \n",
            "__________________________________________________________________________________________________\n",
            "bn4c_branch2a (BatchNormalizati (None, None, None, 2 1024        res4c_branch2a[0][0]             \n",
            "__________________________________________________________________________________________________\n",
            "res4c_branch2a_relu (Activation (None, None, None, 2 0           bn4c_branch2a[0][0]              \n",
            "__________________________________________________________________________________________________\n",
            "padding4c_branch2b (ZeroPadding (None, None, None, 2 0           res4c_branch2a_relu[0][0]        \n",
            "__________________________________________________________________________________________________\n",
            "res4c_branch2b (Conv2D)         (None, None, None, 2 589824      padding4c_branch2b[0][0]         \n",
            "__________________________________________________________________________________________________\n",
            "bn4c_branch2b (BatchNormalizati (None, None, None, 2 1024        res4c_branch2b[0][0]             \n",
            "__________________________________________________________________________________________________\n",
            "res4c_branch2b_relu (Activation (None, None, None, 2 0           bn4c_branch2b[0][0]              \n",
            "__________________________________________________________________________________________________\n",
            "res4c_branch2c (Conv2D)         (None, None, None, 1 262144      res4c_branch2b_relu[0][0]        \n",
            "__________________________________________________________________________________________________\n",
            "bn4c_branch2c (BatchNormalizati (None, None, None, 1 4096        res4c_branch2c[0][0]             \n",
            "__________________________________________________________________________________________________\n",
            "res4c (Add)                     (None, None, None, 1 0           bn4c_branch2c[0][0]              \n",
            "                                                                 res4b_relu[0][0]                 \n",
            "__________________________________________________________________________________________________\n",
            "res4c_relu (Activation)         (None, None, None, 1 0           res4c[0][0]                      \n",
            "__________________________________________________________________________________________________\n",
            "res4d_branch2a (Conv2D)         (None, None, None, 2 262144      res4c_relu[0][0]                 \n",
            "__________________________________________________________________________________________________\n",
            "bn4d_branch2a (BatchNormalizati (None, None, None, 2 1024        res4d_branch2a[0][0]             \n",
            "__________________________________________________________________________________________________\n",
            "res4d_branch2a_relu (Activation (None, None, None, 2 0           bn4d_branch2a[0][0]              \n",
            "__________________________________________________________________________________________________\n",
            "padding4d_branch2b (ZeroPadding (None, None, None, 2 0           res4d_branch2a_relu[0][0]        \n",
            "__________________________________________________________________________________________________\n",
            "res4d_branch2b (Conv2D)         (None, None, None, 2 589824      padding4d_branch2b[0][0]         \n",
            "__________________________________________________________________________________________________\n",
            "bn4d_branch2b (BatchNormalizati (None, None, None, 2 1024        res4d_branch2b[0][0]             \n",
            "__________________________________________________________________________________________________\n",
            "res4d_branch2b_relu (Activation (None, None, None, 2 0           bn4d_branch2b[0][0]              \n",
            "__________________________________________________________________________________________________\n",
            "res4d_branch2c (Conv2D)         (None, None, None, 1 262144      res4d_branch2b_relu[0][0]        \n",
            "__________________________________________________________________________________________________\n",
            "bn4d_branch2c (BatchNormalizati (None, None, None, 1 4096        res4d_branch2c[0][0]             \n",
            "__________________________________________________________________________________________________\n",
            "res4d (Add)                     (None, None, None, 1 0           bn4d_branch2c[0][0]              \n",
            "                                                                 res4c_relu[0][0]                 \n",
            "__________________________________________________________________________________________________\n",
            "res4d_relu (Activation)         (None, None, None, 1 0           res4d[0][0]                      \n",
            "__________________________________________________________________________________________________\n",
            "res4e_branch2a (Conv2D)         (None, None, None, 2 262144      res4d_relu[0][0]                 \n",
            "__________________________________________________________________________________________________\n",
            "bn4e_branch2a (BatchNormalizati (None, None, None, 2 1024        res4e_branch2a[0][0]             \n",
            "__________________________________________________________________________________________________\n",
            "res4e_branch2a_relu (Activation (None, None, None, 2 0           bn4e_branch2a[0][0]              \n",
            "__________________________________________________________________________________________________\n",
            "padding4e_branch2b (ZeroPadding (None, None, None, 2 0           res4e_branch2a_relu[0][0]        \n",
            "__________________________________________________________________________________________________\n",
            "res4e_branch2b (Conv2D)         (None, None, None, 2 589824      padding4e_branch2b[0][0]         \n",
            "__________________________________________________________________________________________________\n",
            "bn4e_branch2b (BatchNormalizati (None, None, None, 2 1024        res4e_branch2b[0][0]             \n",
            "__________________________________________________________________________________________________\n",
            "res4e_branch2b_relu (Activation (None, None, None, 2 0           bn4e_branch2b[0][0]              \n",
            "__________________________________________________________________________________________________\n",
            "res4e_branch2c (Conv2D)         (None, None, None, 1 262144      res4e_branch2b_relu[0][0]        \n",
            "__________________________________________________________________________________________________\n",
            "bn4e_branch2c (BatchNormalizati (None, None, None, 1 4096        res4e_branch2c[0][0]             \n",
            "__________________________________________________________________________________________________\n",
            "res4e (Add)                     (None, None, None, 1 0           bn4e_branch2c[0][0]              \n",
            "                                                                 res4d_relu[0][0]                 \n",
            "__________________________________________________________________________________________________\n",
            "res4e_relu (Activation)         (None, None, None, 1 0           res4e[0][0]                      \n",
            "__________________________________________________________________________________________________\n",
            "res4f_branch2a (Conv2D)         (None, None, None, 2 262144      res4e_relu[0][0]                 \n",
            "__________________________________________________________________________________________________\n",
            "bn4f_branch2a (BatchNormalizati (None, None, None, 2 1024        res4f_branch2a[0][0]             \n",
            "__________________________________________________________________________________________________\n",
            "res4f_branch2a_relu (Activation (None, None, None, 2 0           bn4f_branch2a[0][0]              \n",
            "__________________________________________________________________________________________________\n",
            "padding4f_branch2b (ZeroPadding (None, None, None, 2 0           res4f_branch2a_relu[0][0]        \n",
            "__________________________________________________________________________________________________\n",
            "res4f_branch2b (Conv2D)         (None, None, None, 2 589824      padding4f_branch2b[0][0]         \n",
            "__________________________________________________________________________________________________\n",
            "bn4f_branch2b (BatchNormalizati (None, None, None, 2 1024        res4f_branch2b[0][0]             \n",
            "__________________________________________________________________________________________________\n",
            "res4f_branch2b_relu (Activation (None, None, None, 2 0           bn4f_branch2b[0][0]              \n",
            "__________________________________________________________________________________________________\n",
            "res4f_branch2c (Conv2D)         (None, None, None, 1 262144      res4f_branch2b_relu[0][0]        \n",
            "__________________________________________________________________________________________________\n",
            "bn4f_branch2c (BatchNormalizati (None, None, None, 1 4096        res4f_branch2c[0][0]             \n",
            "__________________________________________________________________________________________________\n",
            "res4f (Add)                     (None, None, None, 1 0           bn4f_branch2c[0][0]              \n",
            "                                                                 res4e_relu[0][0]                 \n",
            "__________________________________________________________________________________________________\n",
            "res4f_relu (Activation)         (None, None, None, 1 0           res4f[0][0]                      \n",
            "__________________________________________________________________________________________________\n",
            "res5a_branch2a (Conv2D)         (None, None, None, 5 524288      res4f_relu[0][0]                 \n",
            "__________________________________________________________________________________________________\n",
            "bn5a_branch2a (BatchNormalizati (None, None, None, 5 2048        res5a_branch2a[0][0]             \n",
            "__________________________________________________________________________________________________\n",
            "res5a_branch2a_relu (Activation (None, None, None, 5 0           bn5a_branch2a[0][0]              \n",
            "__________________________________________________________________________________________________\n",
            "padding5a_branch2b (ZeroPadding (None, None, None, 5 0           res5a_branch2a_relu[0][0]        \n",
            "__________________________________________________________________________________________________\n",
            "res5a_branch2b (Conv2D)         (None, None, None, 5 2359296     padding5a_branch2b[0][0]         \n",
            "__________________________________________________________________________________________________\n",
            "bn5a_branch2b (BatchNormalizati (None, None, None, 5 2048        res5a_branch2b[0][0]             \n",
            "__________________________________________________________________________________________________\n",
            "res5a_branch2b_relu (Activation (None, None, None, 5 0           bn5a_branch2b[0][0]              \n",
            "__________________________________________________________________________________________________\n",
            "res5a_branch2c (Conv2D)         (None, None, None, 2 1048576     res5a_branch2b_relu[0][0]        \n",
            "__________________________________________________________________________________________________\n",
            "res5a_branch1 (Conv2D)          (None, None, None, 2 2097152     res4f_relu[0][0]                 \n",
            "__________________________________________________________________________________________________\n",
            "bn5a_branch2c (BatchNormalizati (None, None, None, 2 8192        res5a_branch2c[0][0]             \n",
            "__________________________________________________________________________________________________\n",
            "bn5a_branch1 (BatchNormalizatio (None, None, None, 2 8192        res5a_branch1[0][0]              \n",
            "__________________________________________________________________________________________________\n",
            "res5a (Add)                     (None, None, None, 2 0           bn5a_branch2c[0][0]              \n",
            "                                                                 bn5a_branch1[0][0]               \n",
            "__________________________________________________________________________________________________\n",
            "res5a_relu (Activation)         (None, None, None, 2 0           res5a[0][0]                      \n",
            "__________________________________________________________________________________________________\n",
            "res5b_branch2a (Conv2D)         (None, None, None, 5 1048576     res5a_relu[0][0]                 \n",
            "__________________________________________________________________________________________________\n",
            "bn5b_branch2a (BatchNormalizati (None, None, None, 5 2048        res5b_branch2a[0][0]             \n",
            "__________________________________________________________________________________________________\n",
            "res5b_branch2a_relu (Activation (None, None, None, 5 0           bn5b_branch2a[0][0]              \n",
            "__________________________________________________________________________________________________\n",
            "padding5b_branch2b (ZeroPadding (None, None, None, 5 0           res5b_branch2a_relu[0][0]        \n",
            "__________________________________________________________________________________________________\n",
            "res5b_branch2b (Conv2D)         (None, None, None, 5 2359296     padding5b_branch2b[0][0]         \n",
            "__________________________________________________________________________________________________\n",
            "bn5b_branch2b (BatchNormalizati (None, None, None, 5 2048        res5b_branch2b[0][0]             \n",
            "__________________________________________________________________________________________________\n",
            "res5b_branch2b_relu (Activation (None, None, None, 5 0           bn5b_branch2b[0][0]              \n",
            "__________________________________________________________________________________________________\n",
            "res5b_branch2c (Conv2D)         (None, None, None, 2 1048576     res5b_branch2b_relu[0][0]        \n",
            "__________________________________________________________________________________________________\n",
            "bn5b_branch2c (BatchNormalizati (None, None, None, 2 8192        res5b_branch2c[0][0]             \n",
            "__________________________________________________________________________________________________\n",
            "res5b (Add)                     (None, None, None, 2 0           bn5b_branch2c[0][0]              \n",
            "                                                                 res5a_relu[0][0]                 \n",
            "__________________________________________________________________________________________________\n",
            "res5b_relu (Activation)         (None, None, None, 2 0           res5b[0][0]                      \n",
            "__________________________________________________________________________________________________\n",
            "res5c_branch2a (Conv2D)         (None, None, None, 5 1048576     res5b_relu[0][0]                 \n",
            "__________________________________________________________________________________________________\n",
            "bn5c_branch2a (BatchNormalizati (None, None, None, 5 2048        res5c_branch2a[0][0]             \n",
            "__________________________________________________________________________________________________\n",
            "res5c_branch2a_relu (Activation (None, None, None, 5 0           bn5c_branch2a[0][0]              \n",
            "__________________________________________________________________________________________________\n",
            "padding5c_branch2b (ZeroPadding (None, None, None, 5 0           res5c_branch2a_relu[0][0]        \n",
            "__________________________________________________________________________________________________\n",
            "res5c_branch2b (Conv2D)         (None, None, None, 5 2359296     padding5c_branch2b[0][0]         \n",
            "__________________________________________________________________________________________________\n",
            "bn5c_branch2b (BatchNormalizati (None, None, None, 5 2048        res5c_branch2b[0][0]             \n",
            "__________________________________________________________________________________________________\n",
            "res5c_branch2b_relu (Activation (None, None, None, 5 0           bn5c_branch2b[0][0]              \n",
            "__________________________________________________________________________________________________\n",
            "res5c_branch2c (Conv2D)         (None, None, None, 2 1048576     res5c_branch2b_relu[0][0]        \n",
            "__________________________________________________________________________________________________\n",
            "bn5c_branch2c (BatchNormalizati (None, None, None, 2 8192        res5c_branch2c[0][0]             \n",
            "__________________________________________________________________________________________________\n",
            "res5c (Add)                     (None, None, None, 2 0           bn5c_branch2c[0][0]              \n",
            "                                                                 res5b_relu[0][0]                 \n",
            "__________________________________________________________________________________________________\n",
            "res5c_relu (Activation)         (None, None, None, 2 0           res5c[0][0]                      \n",
            "__________________________________________________________________________________________________\n",
            "C5_reduced (Conv2D)             (None, None, None, 2 524544      res5c_relu[0][0]                 \n",
            "__________________________________________________________________________________________________\n",
            "P5_upsampled (UpsampleLike)     (None, None, None, 2 0           C5_reduced[0][0]                 \n",
            "                                                                 res4f_relu[0][0]                 \n",
            "__________________________________________________________________________________________________\n",
            "C4_reduced (Conv2D)             (None, None, None, 2 262400      res4f_relu[0][0]                 \n",
            "__________________________________________________________________________________________________\n",
            "P4_merged (Add)                 (None, None, None, 2 0           P5_upsampled[0][0]               \n",
            "                                                                 C4_reduced[0][0]                 \n",
            "__________________________________________________________________________________________________\n",
            "P4_upsampled (UpsampleLike)     (None, None, None, 2 0           P4_merged[0][0]                  \n",
            "                                                                 res3d_relu[0][0]                 \n",
            "__________________________________________________________________________________________________\n",
            "C3_reduced (Conv2D)             (None, None, None, 2 131328      res3d_relu[0][0]                 \n",
            "__________________________________________________________________________________________________\n",
            "P6 (Conv2D)                     (None, None, None, 2 4718848     res5c_relu[0][0]                 \n",
            "__________________________________________________________________________________________________\n",
            "P3_merged (Add)                 (None, None, None, 2 0           P4_upsampled[0][0]               \n",
            "                                                                 C3_reduced[0][0]                 \n",
            "__________________________________________________________________________________________________\n",
            "C6_relu (Activation)            (None, None, None, 2 0           P6[0][0]                         \n",
            "__________________________________________________________________________________________________\n",
            "P3 (Conv2D)                     (None, None, None, 2 590080      P3_merged[0][0]                  \n",
            "__________________________________________________________________________________________________\n",
            "P4 (Conv2D)                     (None, None, None, 2 590080      P4_merged[0][0]                  \n",
            "__________________________________________________________________________________________________\n",
            "P5 (Conv2D)                     (None, None, None, 2 590080      C5_reduced[0][0]                 \n",
            "__________________________________________________________________________________________________\n",
            "P7 (Conv2D)                     (None, None, None, 2 590080      C6_relu[0][0]                    \n",
            "__________________________________________________________________________________________________\n",
            "regression_submodel (Model)     (None, None, 4)      2443300     P3[0][0]                         \n",
            "                                                                 P4[0][0]                         \n",
            "                                                                 P5[0][0]                         \n",
            "                                                                 P6[0][0]                         \n",
            "                                                                 P7[0][0]                         \n",
            "__________________________________________________________________________________________________\n",
            "classification_submodel (Model) (None, None, 2)      2401810     P3[0][0]                         \n",
            "                                                                 P4[0][0]                         \n",
            "                                                                 P5[0][0]                         \n",
            "                                                                 P6[0][0]                         \n",
            "                                                                 P7[0][0]                         \n",
            "__________________________________________________________________________________________________\n",
            "regression (Concatenate)        (None, None, 4)      0           regression_submodel[1][0]        \n",
            "                                                                 regression_submodel[2][0]        \n",
            "                                                                 regression_submodel[3][0]        \n",
            "                                                                 regression_submodel[4][0]        \n",
            "                                                                 regression_submodel[5][0]        \n",
            "__________________________________________________________________________________________________\n",
            "classification (Concatenate)    (None, None, 2)      0           classification_submodel[1][0]    \n",
            "                                                                 classification_submodel[2][0]    \n",
            "                                                                 classification_submodel[3][0]    \n",
            "                                                                 classification_submodel[4][0]    \n",
            "                                                                 classification_submodel[5][0]    \n",
            "==================================================================================================\n",
            "Total params: 36,403,702\n",
            "Trainable params: 12,842,550\n",
            "Non-trainable params: 23,561,152\n",
            "__________________________________________________________________________________________________\n",
            "None\n",
            "Epoch 1/30\n",
            "2020-07-08 15:13:51.165211: I tensorflow/stream_executor/platform/default/dso_loader.cc:44] Successfully opened dynamic library libcudnn.so.7\n",
            "2020-07-08 15:13:55.693323: W tensorflow/core/common_runtime/bfc_allocator.cc:245] Allocator (GPU_0_bfc) ran out of memory trying to allocate 2.82GiB with freed_by_count=0. The caller indicates that this is not a failure, but may mean that there could be performance gains if more memory were available.\n",
            "2020-07-08 15:13:56.037511: I tensorflow/stream_executor/platform/default/dso_loader.cc:44] Successfully opened dynamic library libcublas.so.10\n",
            "2020-07-08 15:14:07.115311: W tensorflow/core/common_runtime/bfc_allocator.cc:245] Allocator (GPU_0_bfc) ran out of memory trying to allocate 2.76GiB with freed_by_count=0. The caller indicates that this is not a failure, but may mean that there could be performance gains if more memory were available.\n",
            "2020-07-08 15:14:07.430926: W tensorflow/core/common_runtime/bfc_allocator.cc:245] Allocator (GPU_0_bfc) ran out of memory trying to allocate 2.76GiB with freed_by_count=0. The caller indicates that this is not a failure, but may mean that there could be performance gains if more memory were available.\n",
            "2020-07-08 15:14:10.061317: W tensorflow/core/common_runtime/bfc_allocator.cc:245] Allocator (GPU_0_bfc) ran out of memory trying to allocate 2.15GiB with freed_by_count=0. The caller indicates that this is not a failure, but may mean that there could be performance gains if more memory were available.\n",
            "2020-07-08 15:14:10.493960: W tensorflow/core/common_runtime/bfc_allocator.cc:245] Allocator (GPU_0_bfc) ran out of memory trying to allocate 2.34GiB with freed_by_count=0. The caller indicates that this is not a failure, but may mean that there could be performance gains if more memory were available.\n",
            "2020-07-08 15:14:13.414287: W tensorflow/core/common_runtime/bfc_allocator.cc:245] Allocator (GPU_0_bfc) ran out of memory trying to allocate 1.40GiB with freed_by_count=0. The caller indicates that this is not a failure, but may mean that there could be performance gains if more memory were available.\n",
            " 1/79 [..............................] - ETA: 40:45 - loss: 4.1723 - regression_loss: 3.0012 - classification_loss: 1.17112020-07-08 15:14:20.069767: W tensorflow/core/common_runtime/bfc_allocator.cc:245] Allocator (GPU_0_bfc) ran out of memory trying to allocate 1.38GiB with freed_by_count=0. The caller indicates that this is not a failure, but may mean that there could be performance gains if more memory were available.\n",
            "79/79 [==============================] - 537s 7s/step - loss: 3.4380 - regression_loss: 2.3045 - classification_loss: 1.1334\n",
            "\n",
            "Epoch 00001: saving model to ./snapshots/resnet50_csv_01.h5\n",
            "Epoch 2/30\n",
            " 2/79 [..............................] - ETA: 8:17 - loss: 2.9451 - regression_loss: 1.8588 - classification_loss: 1.08632020-07-08 15:22:59.711512: W tensorflow/core/common_runtime/bfc_allocator.cc:245] Allocator (GPU_0_bfc) ran out of memory trying to allocate 1.38GiB with freed_by_count=0. The caller indicates that this is not a failure, but may mean that there could be performance gains if more memory were available.\n",
            "24/79 [========>.....................] - ETA: 5:57 - loss: 2.8578 - regression_loss: 1.7942 - classification_loss: 1.06362020-07-08 15:25:22.618635: W tensorflow/core/common_runtime/bfc_allocator.cc:245] Allocator (GPU_0_bfc) ran out of memory trying to allocate 1.38GiB with freed_by_count=0. The caller indicates that this is not a failure, but may mean that there could be performance gains if more memory were available.\n",
            "79/79 [==============================] - 513s 6s/step - loss: 2.6598 - regression_loss: 1.7239 - classification_loss: 0.9359\n",
            "\n",
            "Epoch 00002: saving model to ./snapshots/resnet50_csv_02.h5\n",
            "Epoch 3/30\n",
            "79/79 [==============================] - 514s 7s/step - loss: 2.1368 - regression_loss: 1.5686 - classification_loss: 0.5682\n",
            "\n",
            "Epoch 00003: saving model to ./snapshots/resnet50_csv_03.h5\n",
            "Epoch 4/30\n",
            "73/79 [==========================>...] - ETA: 39s - loss: 1.9345 - regression_loss: 1.4671 - classification_loss: 0.46742020-07-08 15:47:51.073364: W tensorflow/core/common_runtime/bfc_allocator.cc:245] Allocator (GPU_0_bfc) ran out of memory trying to allocate 1.38GiB with freed_by_count=0. The caller indicates that this is not a failure, but may mean that there could be performance gains if more memory were available.\n",
            "79/79 [==============================] - 515s 7s/step - loss: 1.9299 - regression_loss: 1.4646 - classification_loss: 0.4653\n",
            "\n",
            "Epoch 00004: saving model to ./snapshots/resnet50_csv_04.h5\n",
            "Epoch 5/30\n",
            "79/79 [==============================] - 515s 7s/step - loss: 1.8208 - regression_loss: 1.3965 - classification_loss: 0.4243\n",
            "\n",
            "Epoch 00005: saving model to ./snapshots/resnet50_csv_05.h5\n",
            "Epoch 6/30\n",
            "79/79 [==============================] - 515s 7s/step - loss: 1.7476 - regression_loss: 1.3492 - classification_loss: 0.3984\n",
            "\n",
            "Epoch 00006: saving model to ./snapshots/resnet50_csv_06.h5\n",
            "Epoch 7/30\n",
            "79/79 [==============================] - 514s 7s/step - loss: 1.6892 - regression_loss: 1.3097 - classification_loss: 0.3795\n",
            "\n",
            "Epoch 00007: saving model to ./snapshots/resnet50_csv_07.h5\n",
            "Epoch 8/30\n",
            "79/79 [==============================] - 516s 7s/step - loss: 1.6637 - regression_loss: 1.2975 - classification_loss: 0.3662\n",
            "\n",
            "Epoch 00008: saving model to ./snapshots/resnet50_csv_08.h5\n",
            "Epoch 9/30\n",
            "79/79 [==============================] - 515s 7s/step - loss: 1.5989 - regression_loss: 1.2506 - classification_loss: 0.3483\n",
            "\n",
            "Epoch 00009: saving model to ./snapshots/resnet50_csv_09.h5\n",
            "Epoch 10/30\n",
            "79/79 [==============================] - 515s 7s/step - loss: 1.5841 - regression_loss: 1.2488 - classification_loss: 0.3353\n",
            "\n",
            "Epoch 00010: saving model to ./snapshots/resnet50_csv_10.h5\n",
            "Epoch 11/30\n",
            "79/79 [==============================] - 514s 7s/step - loss: 1.5459 - regression_loss: 1.2215 - classification_loss: 0.3244\n",
            "\n",
            "Epoch 00011: saving model to ./snapshots/resnet50_csv_11.h5\n",
            "Epoch 12/30\n",
            "79/79 [==============================] - 513s 6s/step - loss: 1.5351 - regression_loss: 1.2174 - classification_loss: 0.3178\n",
            "\n",
            "Epoch 00012: saving model to ./snapshots/resnet50_csv_12.h5\n",
            "Epoch 13/30\n",
            "79/79 [==============================] - 513s 6s/step - loss: 1.4996 - regression_loss: 1.1935 - classification_loss: 0.3060\n",
            "\n",
            "Epoch 00013: saving model to ./snapshots/resnet50_csv_13.h5\n",
            "Epoch 14/30\n",
            "79/79 [==============================] - 514s 7s/step - loss: 1.4846 - regression_loss: 1.1866 - classification_loss: 0.2980\n",
            "\n",
            "Epoch 00014: saving model to ./snapshots/resnet50_csv_14.h5\n",
            "Epoch 15/30\n",
            "79/79 [==============================] - 514s 7s/step - loss: 1.4612 - regression_loss: 1.1725 - classification_loss: 0.2887\n",
            "\n",
            "Epoch 00015: saving model to ./snapshots/resnet50_csv_15.h5\n",
            "Epoch 16/30\n",
            "79/79 [==============================] - 513s 6s/step - loss: 1.4491 - regression_loss: 1.1654 - classification_loss: 0.2836\n",
            "\n",
            "Epoch 00016: saving model to ./snapshots/resnet50_csv_16.h5\n",
            "Epoch 17/30\n",
            "79/79 [==============================] - 513s 6s/step - loss: 1.4343 - regression_loss: 1.1569 - classification_loss: 0.2774\n",
            "\n",
            "Epoch 00017: saving model to ./snapshots/resnet50_csv_17.h5\n",
            "Epoch 18/30\n",
            "79/79 [==============================] - 514s 7s/step - loss: 1.4116 - regression_loss: 1.1387 - classification_loss: 0.2729\n",
            "\n",
            "Epoch 00018: saving model to ./snapshots/resnet50_csv_18.h5\n",
            "Epoch 19/30\n",
            "79/79 [==============================] - 515s 7s/step - loss: 1.4044 - regression_loss: 1.1365 - classification_loss: 0.2679\n",
            "\n",
            "Epoch 00019: saving model to ./snapshots/resnet50_csv_19.h5\n",
            "Epoch 20/30\n",
            "79/79 [==============================] - 514s 7s/step - loss: 1.3900 - regression_loss: 1.1259 - classification_loss: 0.2642\n",
            "\n",
            "Epoch 00020: saving model to ./snapshots/resnet50_csv_20.h5\n",
            "Epoch 21/30\n",
            "79/79 [==============================] - 515s 7s/step - loss: 1.3737 - regression_loss: 1.1166 - classification_loss: 0.2571\n",
            "\n",
            "Epoch 00021: saving model to ./snapshots/resnet50_csv_21.h5\n",
            "Epoch 22/30\n",
            "79/79 [==============================] - 515s 7s/step - loss: 1.3778 - regression_loss: 1.1212 - classification_loss: 0.2566\n",
            "\n",
            "Epoch 00022: saving model to ./snapshots/resnet50_csv_22.h5\n",
            "Epoch 23/30\n",
            "79/79 [==============================] - 515s 7s/step - loss: 1.3495 - regression_loss: 1.0995 - classification_loss: 0.2500\n",
            "\n",
            "Epoch 00023: saving model to ./snapshots/resnet50_csv_23.h5\n",
            "Epoch 24/30\n",
            "79/79 [==============================] - 514s 7s/step - loss: 1.3507 - regression_loss: 1.1036 - classification_loss: 0.2472\n",
            "\n",
            "Epoch 00024: saving model to ./snapshots/resnet50_csv_24.h5\n",
            "Epoch 25/30\n",
            "79/79 [==============================] - 515s 7s/step - loss: 1.3344 - regression_loss: 1.0895 - classification_loss: 0.2449\n",
            "\n",
            "Epoch 00025: saving model to ./snapshots/resnet50_csv_25.h5\n",
            "Epoch 26/30\n",
            "79/79 [==============================] - 515s 7s/step - loss: 1.3341 - regression_loss: 1.0901 - classification_loss: 0.2440\n",
            "\n",
            "Epoch 00026: saving model to ./snapshots/resnet50_csv_26.h5\n",
            "Epoch 27/30\n",
            "79/79 [==============================] - 515s 7s/step - loss: 1.3287 - regression_loss: 1.0881 - classification_loss: 0.2406\n",
            "\n",
            "Epoch 00027: saving model to ./snapshots/resnet50_csv_27.h5\n",
            "Epoch 28/30\n",
            "79/79 [==============================] - 514s 7s/step - loss: 1.3028 - regression_loss: 1.0699 - classification_loss: 0.2329\n",
            "\n",
            "Epoch 00028: saving model to ./snapshots/resnet50_csv_28.h5\n",
            "Epoch 29/30\n",
            "79/79 [==============================] - 514s 7s/step - loss: 1.3010 - regression_loss: 1.0676 - classification_loss: 0.2334\n",
            "\n",
            "Epoch 00029: saving model to ./snapshots/resnet50_csv_29.h5\n",
            "Epoch 30/30\n",
            "79/79 [==============================] - 514s 7s/step - loss: 1.2948 - regression_loss: 1.0659 - classification_loss: 0.2289\n",
            "\n",
            "Epoch 00030: saving model to ./snapshots/resnet50_csv_30.h5\n"
          ],
          "name": "stdout"
        }
      ]
    },
    {
      "cell_type": "code",
      "metadata": {
        "id": "ngAtipdw64d9",
        "colab_type": "code",
        "colab": {
          "base_uri": "https://localhost:8080/",
          "height": 34
        },
        "outputId": "3955bce0-d5a7-44de-a1ae-975878fd6e1a"
      },
      "source": [
        ""
      ],
      "execution_count": null,
      "outputs": [
        {
          "output_type": "stream",
          "text": [
            "/content/run_1/snapshots/resnet50_csv_30.h5\n"
          ],
          "name": "stdout"
        }
      ]
    },
    {
      "cell_type": "markdown",
      "metadata": {
        "id": "_96nXzDfavmp",
        "colab_type": "text"
      },
      "source": [
        "## Оценка модели"
      ]
    },
    {
      "cell_type": "code",
      "metadata": {
        "id": "pOivKsuMbLN_",
        "colab_type": "code",
        "colab": {}
      },
      "source": [
        "# Путь к папке весов переобученной модели\n",
        "model_1_path = os.path.join('/content/run_1/snapshots/', sorted(os.listdir('/content/run_1/snapshots/'), reverse=True)[0])\n",
        "print(model_1_path)"
      ],
      "execution_count": null,
      "outputs": []
    },
    {
      "cell_type": "code",
      "metadata": {
        "id": "bXs3KKVRWKku",
        "colab_type": "code",
        "colab": {
          "base_uri": "https://localhost:8080/",
          "height": 1000
        },
        "outputId": "9132c170-766a-439e-a2b7-fa8ea1e246d7"
      },
      "source": [
        "# Оценка модели на тестовом наборе данных test.csv\n",
        "!python /content/keras-retinanet/keras_retinanet/bin/evaluate.py \\\n",
        "csv '/content/images_subset/test.csv' \\\n",
        "'/content/images_subset/classes.csv' \\\n",
        "{model_1_path} --convert-model\n",
        "\n",
        "%cd .."
      ],
      "execution_count": null,
      "outputs": [
        {
          "output_type": "stream",
          "text": [
            "/content/run_1/snapshots/resnet50_csv_30.h5\n",
            "Using TensorFlow backend.\n",
            "2020-07-08 19:52:24.343533: I tensorflow/stream_executor/platform/default/dso_loader.cc:44] Successfully opened dynamic library libcudart.so.10.1\n",
            "Loading model, this may take a second...\n",
            "2020-07-08 19:52:31.027411: I tensorflow/stream_executor/platform/default/dso_loader.cc:44] Successfully opened dynamic library libcuda.so.1\n",
            "2020-07-08 19:52:31.052427: I tensorflow/stream_executor/cuda/cuda_gpu_executor.cc:981] successful NUMA node read from SysFS had negative value (-1), but there must be at least one NUMA node, so returning NUMA node zero\n",
            "2020-07-08 19:52:31.053156: I tensorflow/core/common_runtime/gpu/gpu_device.cc:1561] Found device 0 with properties: \n",
            "pciBusID: 0000:00:04.0 name: Tesla K80 computeCapability: 3.7\n",
            "coreClock: 0.8235GHz coreCount: 13 deviceMemorySize: 11.17GiB deviceMemoryBandwidth: 223.96GiB/s\n",
            "2020-07-08 19:52:31.053201: I tensorflow/stream_executor/platform/default/dso_loader.cc:44] Successfully opened dynamic library libcudart.so.10.1\n",
            "2020-07-08 19:52:31.076306: I tensorflow/stream_executor/platform/default/dso_loader.cc:44] Successfully opened dynamic library libcublas.so.10\n",
            "2020-07-08 19:52:31.085010: I tensorflow/stream_executor/platform/default/dso_loader.cc:44] Successfully opened dynamic library libcufft.so.10\n",
            "2020-07-08 19:52:31.094693: I tensorflow/stream_executor/platform/default/dso_loader.cc:44] Successfully opened dynamic library libcurand.so.10\n",
            "2020-07-08 19:52:31.112726: I tensorflow/stream_executor/platform/default/dso_loader.cc:44] Successfully opened dynamic library libcusolver.so.10\n",
            "2020-07-08 19:52:31.118633: I tensorflow/stream_executor/platform/default/dso_loader.cc:44] Successfully opened dynamic library libcusparse.so.10\n",
            "2020-07-08 19:52:31.144387: I tensorflow/stream_executor/platform/default/dso_loader.cc:44] Successfully opened dynamic library libcudnn.so.7\n",
            "2020-07-08 19:52:31.144548: I tensorflow/stream_executor/cuda/cuda_gpu_executor.cc:981] successful NUMA node read from SysFS had negative value (-1), but there must be at least one NUMA node, so returning NUMA node zero\n",
            "2020-07-08 19:52:31.145450: I tensorflow/stream_executor/cuda/cuda_gpu_executor.cc:981] successful NUMA node read from SysFS had negative value (-1), but there must be at least one NUMA node, so returning NUMA node zero\n",
            "2020-07-08 19:52:31.146139: I tensorflow/core/common_runtime/gpu/gpu_device.cc:1703] Adding visible gpu devices: 0\n",
            "2020-07-08 19:52:31.151813: I tensorflow/core/platform/profile_utils/cpu_utils.cc:102] CPU Frequency: 2300000000 Hz\n",
            "2020-07-08 19:52:31.152098: I tensorflow/compiler/xla/service/service.cc:168] XLA service 0x16b6d80 initialized for platform Host (this does not guarantee that XLA will be used). Devices:\n",
            "2020-07-08 19:52:31.152154: I tensorflow/compiler/xla/service/service.cc:176]   StreamExecutor device (0): Host, Default Version\n",
            "2020-07-08 19:52:31.221539: I tensorflow/stream_executor/cuda/cuda_gpu_executor.cc:981] successful NUMA node read from SysFS had negative value (-1), but there must be at least one NUMA node, so returning NUMA node zero\n",
            "2020-07-08 19:52:31.222439: I tensorflow/compiler/xla/service/service.cc:168] XLA service 0x16b6f40 initialized for platform CUDA (this does not guarantee that XLA will be used). Devices:\n",
            "2020-07-08 19:52:31.222508: I tensorflow/compiler/xla/service/service.cc:176]   StreamExecutor device (0): Tesla K80, Compute Capability 3.7\n",
            "2020-07-08 19:52:31.222851: I tensorflow/stream_executor/cuda/cuda_gpu_executor.cc:981] successful NUMA node read from SysFS had negative value (-1), but there must be at least one NUMA node, so returning NUMA node zero\n",
            "2020-07-08 19:52:31.223455: I tensorflow/core/common_runtime/gpu/gpu_device.cc:1561] Found device 0 with properties: \n",
            "pciBusID: 0000:00:04.0 name: Tesla K80 computeCapability: 3.7\n",
            "coreClock: 0.8235GHz coreCount: 13 deviceMemorySize: 11.17GiB deviceMemoryBandwidth: 223.96GiB/s\n",
            "2020-07-08 19:52:31.223511: I tensorflow/stream_executor/platform/default/dso_loader.cc:44] Successfully opened dynamic library libcudart.so.10.1\n",
            "2020-07-08 19:52:31.223566: I tensorflow/stream_executor/platform/default/dso_loader.cc:44] Successfully opened dynamic library libcublas.so.10\n",
            "2020-07-08 19:52:31.223629: I tensorflow/stream_executor/platform/default/dso_loader.cc:44] Successfully opened dynamic library libcufft.so.10\n",
            "2020-07-08 19:52:31.223685: I tensorflow/stream_executor/platform/default/dso_loader.cc:44] Successfully opened dynamic library libcurand.so.10\n",
            "2020-07-08 19:52:31.223744: I tensorflow/stream_executor/platform/default/dso_loader.cc:44] Successfully opened dynamic library libcusolver.so.10\n",
            "2020-07-08 19:52:31.223779: I tensorflow/stream_executor/platform/default/dso_loader.cc:44] Successfully opened dynamic library libcusparse.so.10\n",
            "2020-07-08 19:52:31.223816: I tensorflow/stream_executor/platform/default/dso_loader.cc:44] Successfully opened dynamic library libcudnn.so.7\n",
            "2020-07-08 19:52:31.223928: I tensorflow/stream_executor/cuda/cuda_gpu_executor.cc:981] successful NUMA node read from SysFS had negative value (-1), but there must be at least one NUMA node, so returning NUMA node zero\n",
            "2020-07-08 19:52:31.224720: I tensorflow/stream_executor/cuda/cuda_gpu_executor.cc:981] successful NUMA node read from SysFS had negative value (-1), but there must be at least one NUMA node, so returning NUMA node zero\n",
            "2020-07-08 19:52:31.225298: I tensorflow/core/common_runtime/gpu/gpu_device.cc:1703] Adding visible gpu devices: 0\n",
            "2020-07-08 19:52:31.225386: I tensorflow/stream_executor/platform/default/dso_loader.cc:44] Successfully opened dynamic library libcudart.so.10.1\n",
            "2020-07-08 19:52:31.644964: I tensorflow/core/common_runtime/gpu/gpu_device.cc:1102] Device interconnect StreamExecutor with strength 1 edge matrix:\n",
            "2020-07-08 19:52:31.645026: I tensorflow/core/common_runtime/gpu/gpu_device.cc:1108]      0 \n",
            "2020-07-08 19:52:31.645045: I tensorflow/core/common_runtime/gpu/gpu_device.cc:1121] 0:   N \n",
            "2020-07-08 19:52:31.645339: I tensorflow/stream_executor/cuda/cuda_gpu_executor.cc:981] successful NUMA node read from SysFS had negative value (-1), but there must be at least one NUMA node, so returning NUMA node zero\n",
            "2020-07-08 19:52:31.646131: I tensorflow/stream_executor/cuda/cuda_gpu_executor.cc:981] successful NUMA node read from SysFS had negative value (-1), but there must be at least one NUMA node, so returning NUMA node zero\n",
            "2020-07-08 19:52:31.646890: W tensorflow/core/common_runtime/gpu/gpu_bfc_allocator.cc:39] Overriding allow_growth setting because the TF_FORCE_GPU_ALLOW_GROWTH environment variable is set. Original config value was 0.\n",
            "2020-07-08 19:52:31.646946: I tensorflow/core/common_runtime/gpu/gpu_device.cc:1247] Created TensorFlow device (/job:localhost/replica:0/task:0/device:GPU:0 with 10634 MB memory) -> physical GPU (device: 0, name: Tesla K80, pci bus id: 0000:00:04.0, compute capability: 3.7)\n",
            "tracking <tf.Variable 'Variable:0' shape=(9, 4) dtype=float32, numpy=\n",
            "array([[-22.627417, -11.313708,  22.627417,  11.313708],\n",
            "       [-28.50876 , -14.25438 ,  28.50876 ,  14.25438 ],\n",
            "       [-35.918785, -17.959393,  35.918785,  17.959393],\n",
            "       [-16.      , -16.      ,  16.      ,  16.      ],\n",
            "       [-20.158737, -20.158737,  20.158737,  20.158737],\n",
            "       [-25.398417, -25.398417,  25.398417,  25.398417],\n",
            "       [-11.313708, -22.627417,  11.313708,  22.627417],\n",
            "       [-14.25438 , -28.50876 ,  14.25438 ,  28.50876 ],\n",
            "       [-17.959393, -35.918785,  17.959393,  35.918785]], dtype=float32)> anchors\n",
            "tracking <tf.Variable 'Variable:0' shape=(9, 4) dtype=float32, numpy=\n",
            "array([[-45.254833, -22.627417,  45.254833,  22.627417],\n",
            "       [-57.01752 , -28.50876 ,  57.01752 ,  28.50876 ],\n",
            "       [-71.83757 , -35.918785,  71.83757 ,  35.918785],\n",
            "       [-32.      , -32.      ,  32.      ,  32.      ],\n",
            "       [-40.317474, -40.317474,  40.317474,  40.317474],\n",
            "       [-50.796833, -50.796833,  50.796833,  50.796833],\n",
            "       [-22.627417, -45.254833,  22.627417,  45.254833],\n",
            "       [-28.50876 , -57.01752 ,  28.50876 ,  57.01752 ],\n",
            "       [-35.918785, -71.83757 ,  35.918785,  71.83757 ]], dtype=float32)> anchors\n",
            "tracking <tf.Variable 'Variable:0' shape=(9, 4) dtype=float32, numpy=\n",
            "array([[ -90.50967 ,  -45.254833,   90.50967 ,   45.254833],\n",
            "       [-114.03504 ,  -57.01752 ,  114.03504 ,   57.01752 ],\n",
            "       [-143.67514 ,  -71.83757 ,  143.67514 ,   71.83757 ],\n",
            "       [ -64.      ,  -64.      ,   64.      ,   64.      ],\n",
            "       [ -80.63495 ,  -80.63495 ,   80.63495 ,   80.63495 ],\n",
            "       [-101.593666, -101.593666,  101.593666,  101.593666],\n",
            "       [ -45.254833,  -90.50967 ,   45.254833,   90.50967 ],\n",
            "       [ -57.01752 , -114.03504 ,   57.01752 ,  114.03504 ],\n",
            "       [ -71.83757 , -143.67514 ,   71.83757 ,  143.67514 ]],\n",
            "      dtype=float32)> anchors\n",
            "tracking <tf.Variable 'Variable:0' shape=(9, 4) dtype=float32, numpy=\n",
            "array([[-181.01933,  -90.50967,  181.01933,   90.50967],\n",
            "       [-228.07008, -114.03504,  228.07008,  114.03504],\n",
            "       [-287.35028, -143.67514,  287.35028,  143.67514],\n",
            "       [-128.     , -128.     ,  128.     ,  128.     ],\n",
            "       [-161.2699 , -161.2699 ,  161.2699 ,  161.2699 ],\n",
            "       [-203.18733, -203.18733,  203.18733,  203.18733],\n",
            "       [ -90.50967, -181.01933,   90.50967,  181.01933],\n",
            "       [-114.03504, -228.07008,  114.03504,  228.07008],\n",
            "       [-143.67514, -287.35028,  143.67514,  287.35028]], dtype=float32)> anchors\n",
            "tracking <tf.Variable 'Variable:0' shape=(9, 4) dtype=float32, numpy=\n",
            "array([[-362.03867, -181.01933,  362.03867,  181.01933],\n",
            "       [-456.14017, -228.07008,  456.14017,  228.07008],\n",
            "       [-574.70056, -287.35028,  574.70056,  287.35028],\n",
            "       [-256.     , -256.     ,  256.     ,  256.     ],\n",
            "       [-322.5398 , -322.5398 ,  322.5398 ,  322.5398 ],\n",
            "       [-406.37466, -406.37466,  406.37466,  406.37466],\n",
            "       [-181.01933, -362.03867,  181.01933,  362.03867],\n",
            "       [-228.07008, -456.14017,  228.07008,  456.14017],\n",
            "       [-287.35028, -574.70056,  287.35028,  574.70056]], dtype=float32)> anchors\n",
            "Running network: N/A% (0 of 159) |        | Elapsed Time: 0:00:00 ETA:  --:--:--2020-07-08 19:52:41.173887: I tensorflow/stream_executor/platform/default/dso_loader.cc:44] Successfully opened dynamic library libcudnn.so.7\n",
            "2020-07-08 19:52:42.010569: I tensorflow/stream_executor/platform/default/dso_loader.cc:44] Successfully opened dynamic library libcublas.so.10\n",
            "Running network: 100% (159 of 159) |######| Elapsed Time: 0:00:37 Time:  0:00:37\n",
            "Parsing annotations: 100% (159 of 159) |##| Elapsed Time: 0:00:00 Time:  0:00:00\n",
            "455 instances of class 1 with average precision: 0.7649\n",
            "138 instances of class 2 with average precision: 0.6894\n",
            "Inference time for 159 images: 0.2293\n",
            "mAP using the weighted average of precisions among classes: 0.7473\n",
            "mAP: 0.7271\n",
            "/content\n"
          ],
          "name": "stdout"
        }
      ]
    },
    {
      "cell_type": "markdown",
      "metadata": {
        "id": "kmEYREdUVi1r",
        "colab_type": "text"
      },
      "source": [
        "## Генерируем боксы обнаружения на тестовых изображениях -  файлы аннотации"
      ]
    },
    {
      "cell_type": "code",
      "metadata": {
        "id": "yumTI0GCLxen",
        "colab_type": "code",
        "colab": {}
      },
      "source": [
        "# Создаем директорию с выбранными естовыми изображениями \n",
        "\n",
        "!mkdir /content/data/test_data_images/test_data_images/test\n",
        "!mv -t /content/data/test_data_images/test_data_images/test \\\n",
        "/content/data/test_data_images/test_data_images/images/000000091.jpg \\\n",
        "/content/data/test_data_images/test_data_images/images/000000097.jpg \\\n",
        "/content/data/test_data_images/test_data_images/images/000002576.jpg \\\n",
        "/content/data/test_data_images/test_data_images/images/000002412.jpg \\\n",
        "/content/data/test_data_images/test_data_images/images/000000076.jpg \\\n",
        "/content/data/test_data_images/test_data_images/images/000000441.jpg"
      ],
      "execution_count": null,
      "outputs": []
    },
    {
      "cell_type": "markdown",
      "metadata": {
        "id": "m3sruQGh3pBP",
        "colab_type": "text"
      },
      "source": [
        "## Конвертируем переобученную модель в файл весов"
      ]
    },
    {
      "cell_type": "code",
      "metadata": {
        "id": "rBluTiYfDow8",
        "colab_type": "code",
        "colab": {
          "base_uri": "https://localhost:8080/",
          "height": 35
        },
        "outputId": "9b4d98ba-c279-4b4a-d113-15db3a1382ca"
      },
      "source": [
        "# Напечатаем путь до переобученной модели\n",
        "model_1_path"
      ],
      "execution_count": null,
      "outputs": [
        {
          "output_type": "execute_result",
          "data": {
            "application/vnd.google.colaboratory.intrinsic": {
              "type": "string"
            },
            "text/plain": [
              "'/content/run_1/snapshots/resnet50_csv_30.h5'"
            ]
          },
          "metadata": {
            "tags": []
          },
          "execution_count": 41
        }
      ]
    },
    {
      "cell_type": "code",
      "metadata": {
        "id": "dqiITSXNGfSB",
        "colab_type": "code",
        "colab": {
          "base_uri": "https://localhost:8080/",
          "height": 35
        },
        "outputId": "4c774355-0ee1-4fa6-d747-7573f28818ae"
      },
      "source": [
        "os.getcwd()"
      ],
      "execution_count": null,
      "outputs": [
        {
          "output_type": "execute_result",
          "data": {
            "application/vnd.google.colaboratory.intrinsic": {
              "type": "string"
            },
            "text/plain": [
              "'/content'"
            ]
          },
          "metadata": {
            "tags": []
          },
          "execution_count": 42
        }
      ]
    },
    {
      "cell_type": "code",
      "metadata": {
        "id": "HPvlP8W2A_7M",
        "colab_type": "code",
        "colab": {
          "base_uri": "https://localhost:8080/",
          "height": 1000
        },
        "outputId": "4220a034-ffa1-43b9-fb3d-d951c47f5cd7"
      },
      "source": [
        "# преобразуем переобученную модель в файл весов, который будет использоваться для генерации прогнозов\n",
        "!python /content/keras-retinanet/keras_retinanet/bin/convert_model.py '/content/run_1/snapshots/resnet50_csv_30.h5' '/content/run_1/snapshots/resnet50_csv_30_inference.h5'\n",
        "inference_model = '/content/run_1/snapshots/resnet50_csv_30_inference.h5'"
      ],
      "execution_count": null,
      "outputs": [
        {
          "output_type": "stream",
          "text": [
            "Using TensorFlow backend.\n",
            "2020-07-08 19:53:38.379117: I tensorflow/stream_executor/platform/default/dso_loader.cc:44] Successfully opened dynamic library libcudart.so.10.1\n",
            "2020-07-08 19:53:40.197484: I tensorflow/stream_executor/platform/default/dso_loader.cc:44] Successfully opened dynamic library libcuda.so.1\n",
            "2020-07-08 19:53:40.217810: I tensorflow/stream_executor/cuda/cuda_gpu_executor.cc:981] successful NUMA node read from SysFS had negative value (-1), but there must be at least one NUMA node, so returning NUMA node zero\n",
            "2020-07-08 19:53:40.218649: I tensorflow/core/common_runtime/gpu/gpu_device.cc:1561] Found device 0 with properties: \n",
            "pciBusID: 0000:00:04.0 name: Tesla K80 computeCapability: 3.7\n",
            "coreClock: 0.8235GHz coreCount: 13 deviceMemorySize: 11.17GiB deviceMemoryBandwidth: 223.96GiB/s\n",
            "2020-07-08 19:53:40.218701: I tensorflow/stream_executor/platform/default/dso_loader.cc:44] Successfully opened dynamic library libcudart.so.10.1\n",
            "2020-07-08 19:53:40.220929: I tensorflow/stream_executor/platform/default/dso_loader.cc:44] Successfully opened dynamic library libcublas.so.10\n",
            "2020-07-08 19:53:40.222640: I tensorflow/stream_executor/platform/default/dso_loader.cc:44] Successfully opened dynamic library libcufft.so.10\n",
            "2020-07-08 19:53:40.223013: I tensorflow/stream_executor/platform/default/dso_loader.cc:44] Successfully opened dynamic library libcurand.so.10\n",
            "2020-07-08 19:53:40.225076: I tensorflow/stream_executor/platform/default/dso_loader.cc:44] Successfully opened dynamic library libcusolver.so.10\n",
            "2020-07-08 19:53:40.231099: I tensorflow/stream_executor/platform/default/dso_loader.cc:44] Successfully opened dynamic library libcusparse.so.10\n",
            "2020-07-08 19:53:40.247086: I tensorflow/stream_executor/platform/default/dso_loader.cc:44] Successfully opened dynamic library libcudnn.so.7\n",
            "2020-07-08 19:53:40.247236: I tensorflow/stream_executor/cuda/cuda_gpu_executor.cc:981] successful NUMA node read from SysFS had negative value (-1), but there must be at least one NUMA node, so returning NUMA node zero\n",
            "2020-07-08 19:53:40.248030: I tensorflow/stream_executor/cuda/cuda_gpu_executor.cc:981] successful NUMA node read from SysFS had negative value (-1), but there must be at least one NUMA node, so returning NUMA node zero\n",
            "2020-07-08 19:53:40.248881: I tensorflow/core/common_runtime/gpu/gpu_device.cc:1703] Adding visible gpu devices: 0\n",
            "2020-07-08 19:53:40.340780: I tensorflow/core/platform/profile_utils/cpu_utils.cc:102] CPU Frequency: 2300000000 Hz\n",
            "2020-07-08 19:53:40.341025: I tensorflow/compiler/xla/service/service.cc:168] XLA service 0x1996d80 initialized for platform Host (this does not guarantee that XLA will be used). Devices:\n",
            "2020-07-08 19:53:40.341060: I tensorflow/compiler/xla/service/service.cc:176]   StreamExecutor device (0): Host, Default Version\n",
            "2020-07-08 19:53:40.342069: I tensorflow/core/common_runtime/gpu/gpu_device.cc:1102] Device interconnect StreamExecutor with strength 1 edge matrix:\n",
            "2020-07-08 19:53:40.342098: I tensorflow/core/common_runtime/gpu/gpu_device.cc:1108]      \n",
            "tracking <tf.Variable 'Variable:0' shape=(9, 4) dtype=float32, numpy=\n",
            "array([[-22.627417, -11.313708,  22.627417,  11.313708],\n",
            "       [-28.50876 , -14.25438 ,  28.50876 ,  14.25438 ],\n",
            "       [-35.918785, -17.959393,  35.918785,  17.959393],\n",
            "       [-16.      , -16.      ,  16.      ,  16.      ],\n",
            "       [-20.158737, -20.158737,  20.158737,  20.158737],\n",
            "       [-25.398417, -25.398417,  25.398417,  25.398417],\n",
            "       [-11.313708, -22.627417,  11.313708,  22.627417],\n",
            "       [-14.25438 , -28.50876 ,  14.25438 ,  28.50876 ],\n",
            "       [-17.959393, -35.918785,  17.959393,  35.918785]], dtype=float32)> anchors\n",
            "tracking <tf.Variable 'Variable:0' shape=(9, 4) dtype=float32, numpy=\n",
            "array([[-45.254833, -22.627417,  45.254833,  22.627417],\n",
            "       [-57.01752 , -28.50876 ,  57.01752 ,  28.50876 ],\n",
            "       [-71.83757 , -35.918785,  71.83757 ,  35.918785],\n",
            "       [-32.      , -32.      ,  32.      ,  32.      ],\n",
            "       [-40.317474, -40.317474,  40.317474,  40.317474],\n",
            "       [-50.796833, -50.796833,  50.796833,  50.796833],\n",
            "       [-22.627417, -45.254833,  22.627417,  45.254833],\n",
            "       [-28.50876 , -57.01752 ,  28.50876 ,  57.01752 ],\n",
            "       [-35.918785, -71.83757 ,  35.918785,  71.83757 ]], dtype=float32)> anchors\n",
            "tracking <tf.Variable 'Variable:0' shape=(9, 4) dtype=float32, numpy=\n",
            "array([[ -90.50967 ,  -45.254833,   90.50967 ,   45.254833],\n",
            "       [-114.03504 ,  -57.01752 ,  114.03504 ,   57.01752 ],\n",
            "       [-143.67514 ,  -71.83757 ,  143.67514 ,   71.83757 ],\n",
            "       [ -64.      ,  -64.      ,   64.      ,   64.      ],\n",
            "       [ -80.63495 ,  -80.63495 ,   80.63495 ,   80.63495 ],\n",
            "       [-101.593666, -101.593666,  101.593666,  101.593666],\n",
            "       [ -45.254833,  -90.50967 ,   45.254833,   90.50967 ],\n",
            "       [ -57.01752 , -114.03504 ,   57.01752 ,  114.03504 ],\n",
            "       [ -71.83757 , -143.67514 ,   71.83757 ,  143.67514 ]],\n",
            "      dtype=float32)> anchors\n",
            "tracking <tf.Variable 'Variable:0' shape=(9, 4) dtype=float32, numpy=\n",
            "array([[-181.01933,  -90.50967,  181.01933,   90.50967],\n",
            "       [-228.07008, -114.03504,  228.07008,  114.03504],\n",
            "       [-287.35028, -143.67514,  287.35028,  143.67514],\n",
            "       [-128.     , -128.     ,  128.     ,  128.     ],\n",
            "       [-161.2699 , -161.2699 ,  161.2699 ,  161.2699 ],\n",
            "       [-203.18733, -203.18733,  203.18733,  203.18733],\n",
            "       [ -90.50967, -181.01933,   90.50967,  181.01933],\n",
            "       [-114.03504, -228.07008,  114.03504,  228.07008],\n",
            "       [-143.67514, -287.35028,  143.67514,  287.35028]], dtype=float32)> anchors\n",
            "tracking <tf.Variable 'Variable:0' shape=(9, 4) dtype=float32, numpy=\n",
            "array([[-362.03867, -181.01933,  362.03867,  181.01933],\n",
            "       [-456.14017, -228.07008,  456.14017,  228.07008],\n",
            "       [-574.70056, -287.35028,  574.70056,  287.35028],\n",
            "       [-256.     , -256.     ,  256.     ,  256.     ],\n",
            "       [-322.5398 , -322.5398 ,  322.5398 ,  322.5398 ],\n",
            "       [-406.37466, -406.37466,  406.37466,  406.37466],\n",
            "       [-181.01933, -362.03867,  181.01933,  362.03867],\n",
            "       [-228.07008, -456.14017,  228.07008,  456.14017],\n",
            "       [-287.35028, -574.70056,  287.35028,  574.70056]], dtype=float32)> anchors\n"
          ],
          "name": "stdout"
        }
      ]
    },
    {
      "cell_type": "code",
      "metadata": {
        "id": "_teYSHzIsICx",
        "colab_type": "code",
        "colab": {
          "base_uri": "https://localhost:8080/",
          "height": 1000
        },
        "outputId": "0efa4d48-fea2-48a1-bf4a-73d4478d7664"
      },
      "source": [
        "# Генерируем файл с прогнозами\n",
        "\n",
        "!python /content/ije_retinanet/image_inference_write.py \\\n",
        "-i '/content/data/test_data_images/test_data_images/test/' \\\n",
        "-t 0.6 \\\n",
        "-m {inference_model} \\\n",
        "-o  /content/data/ \\\n",
        "-l /content/images_subset/classes.csv"
      ],
      "execution_count": null,
      "outputs": [
        {
          "output_type": "stream",
          "text": [
            "Using TensorFlow backend.\n",
            "2020-07-08 19:54:17.071687: I tensorflow/stream_executor/platform/default/dso_loader.cc:44] Successfully opened dynamic library libcudart.so.10.1\n",
            "2020-07-08 19:54:19.614282: I tensorflow/stream_executor/platform/default/dso_loader.cc:44] Successfully opened dynamic library libcuda.so.1\n",
            "2020-07-08 19:54:19.633007: I tensorflow/stream_executor/cuda/cuda_gpu_executor.cc:981] successful NUMA node read from SysFS had negative value (-1), but there must be at least one NUMA node, so returning NUMA node zero\n",
            "2020-07-08 19:54:19.634015: I tensorflow/core/common_runtime/gpu/gpu_device.cc:1561] Found device 0 with properties: \n",
            "pciBusID: 0000:00:04.0 name: Tesla K80 computeCapability: 3.7\n",
            "coreClock: 0.8235GHz coreCount: 13 deviceMemorySize: 11.17GiB deviceMemoryBandwidth: 223.96GiB/s\n",
            "2020-07-08 19:54:19.634067: I tensorflow/stream_executor/platform/default/dso_loader.cc:44] Successfully opened dynamic library libcudart.so.10.1\n",
            "2020-07-08 19:54:19.636377: I tensorflow/stream_executor/platform/default/dso_loader.cc:44] Successfully opened dynamic library libcublas.so.10\n",
            "2020-07-08 19:54:19.643271: I tensorflow/stream_executor/platform/default/dso_loader.cc:44] Successfully opened dynamic library libcufft.so.10\n",
            "2020-07-08 19:54:19.643654: I tensorflow/stream_executor/platform/default/dso_loader.cc:44] Successfully opened dynamic library libcurand.so.10\n",
            "2020-07-08 19:54:19.645450: I tensorflow/stream_executor/platform/default/dso_loader.cc:44] Successfully opened dynamic library libcusolver.so.10\n",
            "2020-07-08 19:54:19.653805: I tensorflow/stream_executor/platform/default/dso_loader.cc:44] Successfully opened dynamic library libcusparse.so.10\n",
            "2020-07-08 19:54:19.658383: I tensorflow/stream_executor/platform/default/dso_loader.cc:44] Successfully opened dynamic library libcudnn.so.7\n",
            "2020-07-08 19:54:19.658552: I tensorflow/stream_executor/cuda/cuda_gpu_executor.cc:981] successful NUMA node read from SysFS had negative value (-1), but there must be at least one NUMA node, so returning NUMA node zero\n",
            "2020-07-08 19:54:19.659389: I tensorflow/stream_executor/cuda/cuda_gpu_executor.cc:981] successful NUMA node read from SysFS had negative value (-1), but there must be at least one NUMA node, so returning NUMA node zero\n",
            "2020-07-08 19:54:19.660160: I tensorflow/core/common_runtime/gpu/gpu_device.cc:1703] Adding visible gpu devices: 0\n",
            "2020-07-08 19:54:19.666661: I tensorflow/core/platform/profile_utils/cpu_utils.cc:102] CPU Frequency: 2300000000 Hz\n",
            "2020-07-08 19:54:19.666914: I tensorflow/compiler/xla/service/service.cc:168] XLA service 0x30a52c0 initialized for platform Host (this does not guarantee that XLA will be used). Devices:\n",
            "2020-07-08 19:54:19.666957: I tensorflow/compiler/xla/service/service.cc:176]   StreamExecutor device (0): Host, Default Version\n",
            "2020-07-08 19:54:19.722781: I tensorflow/stream_executor/cuda/cuda_gpu_executor.cc:981] successful NUMA node read from SysFS had negative value (-1), but there must be at least one NUMA node, so returning NUMA node zero\n",
            "2020-07-08 19:54:19.723731: I tensorflow/compiler/xla/service/service.cc:168] XLA service 0x30a5480 initialized for platform CUDA (this does not guarantee that XLA will be used). Devices:\n",
            "2020-07-08 19:54:19.723763: I tensorflow/compiler/xla/service/service.cc:176]   StreamExecutor device (0): Tesla K80, Compute Capability 3.7\n",
            "2020-07-08 19:54:19.723956: I tensorflow/stream_executor/cuda/cuda_gpu_executor.cc:981] successful NUMA node read from SysFS had negative value (-1), but there must be at least one NUMA node, so returning NUMA node zero\n",
            "2020-07-08 19:54:19.724612: I tensorflow/core/common_runtime/gpu/gpu_device.cc:1561] Found device 0 with properties: \n",
            "pciBusID: 0000:00:04.0 name: Tesla K80 computeCapability: 3.7\n",
            "coreClock: 0.8235GHz coreCount: 13 deviceMemorySize: 11.17GiB deviceMemoryBandwidth: 223.96GiB/s\n",
            "2020-07-08 19:54:19.724678: I tensorflow/stream_executor/platform/default/dso_loader.cc:44] Successfully opened dynamic library libcudart.so.10.1\n",
            "2020-07-08 19:54:19.724726: I tensorflow/stream_executor/platform/default/dso_loader.cc:44] Successfully opened dynamic library libcublas.so.10\n",
            "2020-07-08 19:54:19.724768: I tensorflow/stream_executor/platform/default/dso_loader.cc:44] Successfully opened dynamic library libcufft.so.10\n",
            "2020-07-08 19:54:19.724807: I tensorflow/stream_executor/platform/default/dso_loader.cc:44] Successfully opened dynamic library libcurand.so.10\n",
            "2020-07-08 19:54:19.724843: I tensorflow/stream_executor/platform/default/dso_loader.cc:44] Successfully opened dynamic library libcusolver.so.10\n",
            "2020-07-08 19:54:19.724878: I tensorflow/stream_executor/platform/default/dso_loader.cc:44] Successfully opened dynamic library libcusparse.so.10\n",
            "2020-07-08 19:54:19.724916: I tensorflow/stream_executor/platform/default/dso_loader.cc:44] Successfully opened dynamic library libcudnn.so.7\n",
            "2020-07-08 19:54:19.725058: I tensorflow/stream_executor/cuda/cuda_gpu_executor.cc:981] successful NUMA node read from SysFS had negative value (-1), but there must be at least one NUMA node, so returning NUMA node zero\n",
            "2020-07-08 19:54:19.725830: I tensorflow/stream_executor/cuda/cuda_gpu_executor.cc:981] successful NUMA node read from SysFS had negative value (-1), but there must be at least one NUMA node, so returning NUMA node zero\n",
            "2020-07-08 19:54:19.726554: I tensorflow/core/common_runtime/gpu/gpu_device.cc:1703] Adding visible gpu devices: 0\n",
            "2020-07-08 19:54:19.726623: I tensorflow/stream_executor/platform/default/dso_loader.cc:44] Successfully opened dynamic library libcudart.so.10.1\n",
            "2020-07-08 19:54:20.138782: I tensorflow/core/common_runtime/gpu/gpu_device.cc:1102] Device interconnect StreamExecutor with strength 1 edge matrix:\n",
            "2020-07-08 19:54:20.138843: I tensorflow/core/common_runtime/gpu/gpu_device.cc:1108]      0 \n",
            "2020-07-08 19:54:20.138862: I tensorflow/core/common_runtime/gpu/gpu_device.cc:1121] 0:   N \n",
            "2020-07-08 19:54:20.139105: I tensorflow/stream_executor/cuda/cuda_gpu_executor.cc:981] successful NUMA node read from SysFS had negative value (-1), but there must be at least one NUMA node, so returning NUMA node zero\n",
            "2020-07-08 19:54:20.139866: I tensorflow/stream_executor/cuda/cuda_gpu_executor.cc:981] successful NUMA node read from SysFS had negative value (-1), but there must be at least one NUMA node, so returning NUMA node zero\n",
            "2020-07-08 19:54:20.140609: W tensorflow/core/common_runtime/gpu/gpu_bfc_allocator.cc:39] Overriding allow_growth setting because the TF_FORCE_GPU_ALLOW_GROWTH environment variable is set. Original config value was 0.\n",
            "2020-07-08 19:54:20.140666: I tensorflow/core/common_runtime/gpu/gpu_device.cc:1247] Created TensorFlow device (/job:localhost/replica:0/task:0/device:GPU:0 with 10634 MB memory) -> physical GPU (device: 0, name: Tesla K80, pci bus id: 0000:00:04.0, compute capability: 3.7)\n",
            "tracking <tf.Variable 'Variable:0' shape=(9, 4) dtype=float32, numpy=\n",
            "array([[-22.627417, -11.313708,  22.627417,  11.313708],\n",
            "       [-28.50876 , -14.25438 ,  28.50876 ,  14.25438 ],\n",
            "       [-35.918785, -17.959393,  35.918785,  17.959393],\n",
            "       [-16.      , -16.      ,  16.      ,  16.      ],\n",
            "       [-20.158737, -20.158737,  20.158737,  20.158737],\n",
            "       [-25.398417, -25.398417,  25.398417,  25.398417],\n",
            "       [-11.313708, -22.627417,  11.313708,  22.627417],\n",
            "       [-14.25438 , -28.50876 ,  14.25438 ,  28.50876 ],\n",
            "       [-17.959393, -35.918785,  17.959393,  35.918785]], dtype=float32)> anchors\n",
            "tracking <tf.Variable 'Variable:0' shape=(9, 4) dtype=float32, numpy=\n",
            "array([[-45.254833, -22.627417,  45.254833,  22.627417],\n",
            "       [-57.01752 , -28.50876 ,  57.01752 ,  28.50876 ],\n",
            "       [-71.83757 , -35.918785,  71.83757 ,  35.918785],\n",
            "       [-32.      , -32.      ,  32.      ,  32.      ],\n",
            "       [-40.317474, -40.317474,  40.317474,  40.317474],\n",
            "       [-50.796833, -50.796833,  50.796833,  50.796833],\n",
            "       [-22.627417, -45.254833,  22.627417,  45.254833],\n",
            "       [-28.50876 , -57.01752 ,  28.50876 ,  57.01752 ],\n",
            "       [-35.918785, -71.83757 ,  35.918785,  71.83757 ]], dtype=float32)> anchors\n",
            "tracking <tf.Variable 'Variable:0' shape=(9, 4) dtype=float32, numpy=\n",
            "array([[ -90.50967 ,  -45.254833,   90.50967 ,   45.254833],\n",
            "       [-114.03504 ,  -57.01752 ,  114.03504 ,   57.01752 ],\n",
            "       [-143.67514 ,  -71.83757 ,  143.67514 ,   71.83757 ],\n",
            "       [ -64.      ,  -64.      ,   64.      ,   64.      ],\n",
            "       [ -80.63495 ,  -80.63495 ,   80.63495 ,   80.63495 ],\n",
            "       [-101.593666, -101.593666,  101.593666,  101.593666],\n",
            "       [ -45.254833,  -90.50967 ,   45.254833,   90.50967 ],\n",
            "       [ -57.01752 , -114.03504 ,   57.01752 ,  114.03504 ],\n",
            "       [ -71.83757 , -143.67514 ,   71.83757 ,  143.67514 ]],\n",
            "      dtype=float32)> anchors\n",
            "tracking <tf.Variable 'Variable:0' shape=(9, 4) dtype=float32, numpy=\n",
            "array([[-181.01933,  -90.50967,  181.01933,   90.50967],\n",
            "       [-228.07008, -114.03504,  228.07008,  114.03504],\n",
            "       [-287.35028, -143.67514,  287.35028,  143.67514],\n",
            "       [-128.     , -128.     ,  128.     ,  128.     ],\n",
            "       [-161.2699 , -161.2699 ,  161.2699 ,  161.2699 ],\n",
            "       [-203.18733, -203.18733,  203.18733,  203.18733],\n",
            "       [ -90.50967, -181.01933,   90.50967,  181.01933],\n",
            "       [-114.03504, -228.07008,  114.03504,  228.07008],\n",
            "       [-143.67514, -287.35028,  143.67514,  287.35028]], dtype=float32)> anchors\n",
            "tracking <tf.Variable 'Variable:0' shape=(9, 4) dtype=float32, numpy=\n",
            "array([[-362.03867, -181.01933,  362.03867,  181.01933],\n",
            "       [-456.14017, -228.07008,  456.14017,  228.07008],\n",
            "       [-574.70056, -287.35028,  574.70056,  287.35028],\n",
            "       [-256.     , -256.     ,  256.     ,  256.     ],\n",
            "       [-322.5398 , -322.5398 ,  322.5398 ,  322.5398 ],\n",
            "       [-406.37466, -406.37466,  406.37466,  406.37466],\n",
            "       [-181.01933, -362.03867,  181.01933,  362.03867],\n",
            "       [-228.07008, -456.14017,  228.07008,  456.14017],\n",
            "       [-287.35028, -574.70056,  287.35028,  574.70056]], dtype=float32)> anchors\n",
            "/usr/local/lib/python3.6/dist-packages/keras/engine/saving.py:341: UserWarning: No training configuration found in save file: the model was *not* compiled. Compile it manually.\n",
            "  warnings.warn('No training configuration found in save file: '\n",
            "[INFO] predicting image 1 of 6\n",
            "2020-07-08 19:54:24.404658: I tensorflow/stream_executor/platform/default/dso_loader.cc:44] Successfully opened dynamic library libcudnn.so.7\n",
            "2020-07-08 19:54:25.221590: I tensorflow/stream_executor/platform/default/dso_loader.cc:44] Successfully opened dynamic library libcublas.so.10\n",
            "processing time:  4.71173620223999\n",
            "[INFO] predicting image 2 of 6\n",
            "processing time:  0.2083883285522461\n",
            "[INFO] predicting image 3 of 6\n",
            "processing time:  0.2079000473022461\n",
            "[INFO] predicting image 4 of 6\n",
            "processing time:  0.2069089412689209\n",
            "[INFO] predicting image 5 of 6\n",
            "processing time:  0.21069741249084473\n",
            "[INFO] predicting image 6 of 6\n",
            "processing time:  0.2054750919342041\n",
            "[FINAL] Predictions completed!\n"
          ],
          "name": "stdout"
        }
      ]
    },
    {
      "cell_type": "code",
      "metadata": {
        "id": "9Y37bJo__6-6",
        "colab_type": "code",
        "colab": {}
      },
      "source": [
        "import glob"
      ],
      "execution_count": null,
      "outputs": []
    },
    {
      "cell_type": "code",
      "metadata": {
        "id": "N-kI-MqqHyyb",
        "colab_type": "code",
        "colab": {}
      },
      "source": [
        "# Соединяем все файлы предсказаний в один\n",
        "\n",
        "fout=open(\"/content/data/output/out.csv\",\"a\")\n",
        "\n",
        "fout.write(\"path,confidence,ymin,xmin,ymax,xmax,class\\n\") # Заголовок файла\n",
        "# добавление файлов \n",
        "for fi in glob.glob(\"/content/data/*.csv\"):\n",
        "  f = open(fi)\n",
        "  for line in f:\n",
        "    fout.write(line)\n",
        "fout.close()"
      ],
      "execution_count": null,
      "outputs": []
    },
    {
      "cell_type": "markdown",
      "metadata": {
        "id": "zVIpeKcsVXas",
        "colab_type": "text"
      },
      "source": [
        "## Генерируем боксы обнаружения на тестовых изображениях -  изображения"
      ]
    },
    {
      "cell_type": "code",
      "metadata": {
        "id": "I4JizGIVLBqC",
        "colab_type": "code",
        "colab": {
          "base_uri": "https://localhost:8080/",
          "height": 35
        },
        "outputId": "1b188d70-116e-46a7-f1c8-84d609a055de"
      },
      "source": [
        "os.getcwd()"
      ],
      "execution_count": null,
      "outputs": [
        {
          "output_type": "execute_result",
          "data": {
            "application/vnd.google.colaboratory.intrinsic": {
              "type": "string"
            },
            "text/plain": [
              "'/content'"
            ]
          },
          "metadata": {
            "tags": []
          },
          "execution_count": 49
        }
      ]
    },
    {
      "cell_type": "code",
      "metadata": {
        "id": "MITRlFtFdWH5",
        "colab_type": "code",
        "colab": {}
      },
      "source": [
        "# создайте выходной каталог, в котором вы хотите сохранить изображения с помощью ограничительных рамок \n",
        "!mkdir /content/data/output"
      ],
      "execution_count": null,
      "outputs": []
    },
    {
      "cell_type": "code",
      "metadata": {
        "id": "69d-negJSEBe",
        "colab_type": "code",
        "colab": {
          "base_uri": "https://localhost:8080/",
          "height": 1000
        },
        "outputId": "5f2c867a-4792-4832-bc1d-58b45be8b990"
      },
      "source": [
        "# Генерируем ограничительные рамки на изображениях\n",
        "!python /content/ije_retinanet/image_inference_print.py \\\n",
        "-i /content/data/test_data_images/test_data_images/test/ \\\n",
        "-t 0.6 \\\n",
        "-m  {inference_model} \\\n",
        "-o /content/data/output"
      ],
      "execution_count": null,
      "outputs": [
        {
          "output_type": "stream",
          "text": [
            "mkdir: cannot create directory ‘/content/data/output’: File exists\n",
            "Using TensorFlow backend.\n",
            "2020-07-08 19:56:42.193648: I tensorflow/stream_executor/platform/default/dso_loader.cc:44] Successfully opened dynamic library libcudart.so.10.1\n",
            "2020-07-08 19:56:44.448735: I tensorflow/stream_executor/platform/default/dso_loader.cc:44] Successfully opened dynamic library libcuda.so.1\n",
            "2020-07-08 19:56:44.468820: I tensorflow/stream_executor/cuda/cuda_gpu_executor.cc:981] successful NUMA node read from SysFS had negative value (-1), but there must be at least one NUMA node, so returning NUMA node zero\n",
            "2020-07-08 19:56:44.469532: I tensorflow/core/common_runtime/gpu/gpu_device.cc:1561] Found device 0 with properties: \n",
            "pciBusID: 0000:00:04.0 name: Tesla K80 computeCapability: 3.7\n",
            "coreClock: 0.8235GHz coreCount: 13 deviceMemorySize: 11.17GiB deviceMemoryBandwidth: 223.96GiB/s\n",
            "2020-07-08 19:56:44.469611: I tensorflow/stream_executor/platform/default/dso_loader.cc:44] Successfully opened dynamic library libcudart.so.10.1\n",
            "2020-07-08 19:56:44.475066: I tensorflow/stream_executor/platform/default/dso_loader.cc:44] Successfully opened dynamic library libcublas.so.10\n",
            "2020-07-08 19:56:44.476848: I tensorflow/stream_executor/platform/default/dso_loader.cc:44] Successfully opened dynamic library libcufft.so.10\n",
            "2020-07-08 19:56:44.477188: I tensorflow/stream_executor/platform/default/dso_loader.cc:44] Successfully opened dynamic library libcurand.so.10\n",
            "2020-07-08 19:56:44.479009: I tensorflow/stream_executor/platform/default/dso_loader.cc:44] Successfully opened dynamic library libcusolver.so.10\n",
            "2020-07-08 19:56:44.480341: I tensorflow/stream_executor/platform/default/dso_loader.cc:44] Successfully opened dynamic library libcusparse.so.10\n",
            "2020-07-08 19:56:44.488370: I tensorflow/stream_executor/platform/default/dso_loader.cc:44] Successfully opened dynamic library libcudnn.so.7\n",
            "2020-07-08 19:56:44.488508: I tensorflow/stream_executor/cuda/cuda_gpu_executor.cc:981] successful NUMA node read from SysFS had negative value (-1), but there must be at least one NUMA node, so returning NUMA node zero\n",
            "2020-07-08 19:56:44.489276: I tensorflow/stream_executor/cuda/cuda_gpu_executor.cc:981] successful NUMA node read from SysFS had negative value (-1), but there must be at least one NUMA node, so returning NUMA node zero\n",
            "2020-07-08 19:56:44.489932: I tensorflow/core/common_runtime/gpu/gpu_device.cc:1703] Adding visible gpu devices: 0\n",
            "2020-07-08 19:56:44.495216: I tensorflow/core/platform/profile_utils/cpu_utils.cc:102] CPU Frequency: 2300000000 Hz\n",
            "2020-07-08 19:56:44.495465: I tensorflow/compiler/xla/service/service.cc:168] XLA service 0x1bc52c0 initialized for platform Host (this does not guarantee that XLA will be used). Devices:\n",
            "2020-07-08 19:56:44.495499: I tensorflow/compiler/xla/service/service.cc:176]   StreamExecutor device (0): Host, Default Version\n",
            "2020-07-08 19:56:44.550657: I tensorflow/stream_executor/cuda/cuda_gpu_executor.cc:981] successful NUMA node read from SysFS had negative value (-1), but there must be at least one NUMA node, so returning NUMA node zero\n",
            "2020-07-08 19:56:44.551439: I tensorflow/compiler/xla/service/service.cc:168] XLA service 0x691f500 initialized for platform CUDA (this does not guarantee that XLA will be used). Devices:\n",
            "2020-07-08 19:56:44.551472: I tensorflow/compiler/xla/service/service.cc:176]   StreamExecutor device (0): Tesla K80, Compute Capability 3.7\n",
            "2020-07-08 19:56:44.551701: I tensorflow/stream_executor/cuda/cuda_gpu_executor.cc:981] successful NUMA node read from SysFS had negative value (-1), but there must be at least one NUMA node, so returning NUMA node zero\n",
            "2020-07-08 19:56:44.552299: I tensorflow/core/common_runtime/gpu/gpu_device.cc:1561] Found device 0 with properties: \n",
            "pciBusID: 0000:00:04.0 name: Tesla K80 computeCapability: 3.7\n",
            "coreClock: 0.8235GHz coreCount: 13 deviceMemorySize: 11.17GiB deviceMemoryBandwidth: 223.96GiB/s\n",
            "2020-07-08 19:56:44.552427: I tensorflow/stream_executor/platform/default/dso_loader.cc:44] Successfully opened dynamic library libcudart.so.10.1\n",
            "2020-07-08 19:56:44.552500: I tensorflow/stream_executor/platform/default/dso_loader.cc:44] Successfully opened dynamic library libcublas.so.10\n",
            "2020-07-08 19:56:44.552538: I tensorflow/stream_executor/platform/default/dso_loader.cc:44] Successfully opened dynamic library libcufft.so.10\n",
            "2020-07-08 19:56:44.552604: I tensorflow/stream_executor/platform/default/dso_loader.cc:44] Successfully opened dynamic library libcurand.so.10\n",
            "2020-07-08 19:56:44.552644: I tensorflow/stream_executor/platform/default/dso_loader.cc:44] Successfully opened dynamic library libcusolver.so.10\n",
            "2020-07-08 19:56:44.552679: I tensorflow/stream_executor/platform/default/dso_loader.cc:44] Successfully opened dynamic library libcusparse.so.10\n",
            "2020-07-08 19:56:44.552729: I tensorflow/stream_executor/platform/default/dso_loader.cc:44] Successfully opened dynamic library libcudnn.so.7\n",
            "2020-07-08 19:56:44.552890: I tensorflow/stream_executor/cuda/cuda_gpu_executor.cc:981] successful NUMA node read from SysFS had negative value (-1), but there must be at least one NUMA node, so returning NUMA node zero\n",
            "2020-07-08 19:56:44.553661: I tensorflow/stream_executor/cuda/cuda_gpu_executor.cc:981] successful NUMA node read from SysFS had negative value (-1), but there must be at least one NUMA node, so returning NUMA node zero\n",
            "2020-07-08 19:56:44.554389: I tensorflow/core/common_runtime/gpu/gpu_device.cc:1703] Adding visible gpu devices: 0\n",
            "2020-07-08 19:56:44.554442: I tensorflow/stream_executor/platform/default/dso_loader.cc:44] Successfully opened dynamic library libcudart.so.10.1\n",
            "2020-07-08 19:56:44.975030: I tensorflow/core/common_runtime/gpu/gpu_device.cc:1102] Device interconnect StreamExecutor with strength 1 edge matrix:\n",
            "2020-07-08 19:56:44.975091: I tensorflow/core/common_runtime/gpu/gpu_device.cc:1108]      0 \n",
            "2020-07-08 19:56:44.975108: I tensorflow/core/common_runtime/gpu/gpu_device.cc:1121] 0:   N \n",
            "2020-07-08 19:56:44.975349: I tensorflow/stream_executor/cuda/cuda_gpu_executor.cc:981] successful NUMA node read from SysFS had negative value (-1), but there must be at least one NUMA node, so returning NUMA node zero\n",
            "2020-07-08 19:56:44.976135: I tensorflow/stream_executor/cuda/cuda_gpu_executor.cc:981] successful NUMA node read from SysFS had negative value (-1), but there must be at least one NUMA node, so returning NUMA node zero\n",
            "2020-07-08 19:56:44.976772: W tensorflow/core/common_runtime/gpu/gpu_bfc_allocator.cc:39] Overriding allow_growth setting because the TF_FORCE_GPU_ALLOW_GROWTH environment variable is set. Original config value was 0.\n",
            "2020-07-08 19:56:44.976840: I tensorflow/core/common_runtime/gpu/gpu_device.cc:1247] Created TensorFlow device (/job:localhost/replica:0/task:0/device:GPU:0 with 10634 MB memory) -> physical GPU (device: 0, name: Tesla K80, pci bus id: 0000:00:04.0, compute capability: 3.7)\n",
            "tracking <tf.Variable 'Variable:0' shape=(9, 4) dtype=float32, numpy=\n",
            "array([[-22.627417, -11.313708,  22.627417,  11.313708],\n",
            "       [-28.50876 , -14.25438 ,  28.50876 ,  14.25438 ],\n",
            "       [-35.918785, -17.959393,  35.918785,  17.959393],\n",
            "       [-16.      , -16.      ,  16.      ,  16.      ],\n",
            "       [-20.158737, -20.158737,  20.158737,  20.158737],\n",
            "       [-25.398417, -25.398417,  25.398417,  25.398417],\n",
            "       [-11.313708, -22.627417,  11.313708,  22.627417],\n",
            "       [-14.25438 , -28.50876 ,  14.25438 ,  28.50876 ],\n",
            "       [-17.959393, -35.918785,  17.959393,  35.918785]], dtype=float32)> anchors\n",
            "tracking <tf.Variable 'Variable:0' shape=(9, 4) dtype=float32, numpy=\n",
            "array([[-45.254833, -22.627417,  45.254833,  22.627417],\n",
            "       [-57.01752 , -28.50876 ,  57.01752 ,  28.50876 ],\n",
            "       [-71.83757 , -35.918785,  71.83757 ,  35.918785],\n",
            "       [-32.      , -32.      ,  32.      ,  32.      ],\n",
            "       [-40.317474, -40.317474,  40.317474,  40.317474],\n",
            "       [-50.796833, -50.796833,  50.796833,  50.796833],\n",
            "       [-22.627417, -45.254833,  22.627417,  45.254833],\n",
            "       [-28.50876 , -57.01752 ,  28.50876 ,  57.01752 ],\n",
            "       [-35.918785, -71.83757 ,  35.918785,  71.83757 ]], dtype=float32)> anchors\n",
            "tracking <tf.Variable 'Variable:0' shape=(9, 4) dtype=float32, numpy=\n",
            "array([[ -90.50967 ,  -45.254833,   90.50967 ,   45.254833],\n",
            "       [-114.03504 ,  -57.01752 ,  114.03504 ,   57.01752 ],\n",
            "       [-143.67514 ,  -71.83757 ,  143.67514 ,   71.83757 ],\n",
            "       [ -64.      ,  -64.      ,   64.      ,   64.      ],\n",
            "       [ -80.63495 ,  -80.63495 ,   80.63495 ,   80.63495 ],\n",
            "       [-101.593666, -101.593666,  101.593666,  101.593666],\n",
            "       [ -45.254833,  -90.50967 ,   45.254833,   90.50967 ],\n",
            "       [ -57.01752 , -114.03504 ,   57.01752 ,  114.03504 ],\n",
            "       [ -71.83757 , -143.67514 ,   71.83757 ,  143.67514 ]],\n",
            "      dtype=float32)> anchors\n",
            "tracking <tf.Variable 'Variable:0' shape=(9, 4) dtype=float32, numpy=\n",
            "array([[-181.01933,  -90.50967,  181.01933,   90.50967],\n",
            "       [-228.07008, -114.03504,  228.07008,  114.03504],\n",
            "       [-287.35028, -143.67514,  287.35028,  143.67514],\n",
            "       [-128.     , -128.     ,  128.     ,  128.     ],\n",
            "       [-161.2699 , -161.2699 ,  161.2699 ,  161.2699 ],\n",
            "       [-203.18733, -203.18733,  203.18733,  203.18733],\n",
            "       [ -90.50967, -181.01933,   90.50967,  181.01933],\n",
            "       [-114.03504, -228.07008,  114.03504,  228.07008],\n",
            "       [-143.67514, -287.35028,  143.67514,  287.35028]], dtype=float32)> anchors\n",
            "tracking <tf.Variable 'Variable:0' shape=(9, 4) dtype=float32, numpy=\n",
            "array([[-362.03867, -181.01933,  362.03867,  181.01933],\n",
            "       [-456.14017, -228.07008,  456.14017,  228.07008],\n",
            "       [-574.70056, -287.35028,  574.70056,  287.35028],\n",
            "       [-256.     , -256.     ,  256.     ,  256.     ],\n",
            "       [-322.5398 , -322.5398 ,  322.5398 ,  322.5398 ],\n",
            "       [-406.37466, -406.37466,  406.37466,  406.37466],\n",
            "       [-181.01933, -362.03867,  181.01933,  362.03867],\n",
            "       [-228.07008, -456.14017,  228.07008,  456.14017],\n",
            "       [-287.35028, -574.70056,  287.35028,  574.70056]], dtype=float32)> anchors\n",
            "/usr/local/lib/python3.6/dist-packages/keras/engine/saving.py:341: UserWarning: No training configuration found in save file: the model was *not* compiled. Compile it manually.\n",
            "  warnings.warn('No training configuration found in save file: '\n",
            "[INFO] saving image 1 of 6\n",
            "2020-07-08 19:56:49.220404: I tensorflow/stream_executor/platform/default/dso_loader.cc:44] Successfully opened dynamic library libcudnn.so.7\n",
            "2020-07-08 19:56:50.049183: I tensorflow/stream_executor/platform/default/dso_loader.cc:44] Successfully opened dynamic library libcublas.so.10\n",
            "processing time:  4.646097421646118\n",
            "[INFO] saving image 2 of 6\n",
            "processing time:  0.20913386344909668\n",
            "[INFO] saving image 3 of 6\n",
            "processing time:  0.21053194999694824\n",
            "[INFO] saving image 4 of 6\n",
            "processing time:  0.22036480903625488\n",
            "[INFO] saving image 5 of 6\n",
            "processing time:  0.2118394374847412\n",
            "[INFO] saving image 6 of 6\n",
            "processing time:  0.20534229278564453\n",
            "[FINAL] task completed!\n"
          ],
          "name": "stdout"
        }
      ]
    },
    {
      "cell_type": "code",
      "metadata": {
        "id": "24bku2eMbvJt",
        "colab_type": "code",
        "colab": {
          "base_uri": "https://localhost:8080/",
          "height": 17
        },
        "outputId": "348a50b0-15b1-49c5-c537-62a352b16b48"
      },
      "source": [
        "from google.colab import files\n",
        "\n",
        "# Скачиваем изображения - результат детекции\n",
        "for p in glob.glob('/content/data/output/*.jpg'):\n",
        "  files.download(p)"
      ],
      "execution_count": null,
      "outputs": [
        {
          "output_type": "display_data",
          "data": {
            "application/javascript": [
              "\n",
              "    async function download(id, filename, size) {\n",
              "      if (!google.colab.kernel.accessAllowed) {\n",
              "        return;\n",
              "      }\n",
              "      const div = document.createElement('div');\n",
              "      const label = document.createElement('label');\n",
              "      label.textContent = `Downloading \"${filename}\": `;\n",
              "      div.appendChild(label);\n",
              "      const progress = document.createElement('progress');\n",
              "      progress.max = size;\n",
              "      div.appendChild(progress);\n",
              "      document.body.appendChild(div);\n",
              "\n",
              "      const buffers = [];\n",
              "      let downloaded = 0;\n",
              "\n",
              "      const channel = await google.colab.kernel.comms.open(id);\n",
              "      // Send a message to notify the kernel that we're ready.\n",
              "      channel.send({})\n",
              "\n",
              "      for await (const message of channel.messages) {\n",
              "        // Send a message to notify the kernel that we're ready.\n",
              "        channel.send({})\n",
              "        if (message.buffers) {\n",
              "          for (const buffer of message.buffers) {\n",
              "            buffers.push(buffer);\n",
              "            downloaded += buffer.byteLength;\n",
              "            progress.value = downloaded;\n",
              "          }\n",
              "        }\n",
              "      }\n",
              "      const blob = new Blob(buffers, {type: 'application/binary'});\n",
              "      const a = document.createElement('a');\n",
              "      a.href = window.URL.createObjectURL(blob);\n",
              "      a.download = filename;\n",
              "      div.appendChild(a);\n",
              "      a.click();\n",
              "      div.remove();\n",
              "    }\n",
              "  "
            ],
            "text/plain": [
              "<IPython.core.display.Javascript object>"
            ]
          },
          "metadata": {
            "tags": []
          }
        },
        {
          "output_type": "display_data",
          "data": {
            "application/javascript": [
              "download(\"download_9b625a7b-f5ac-4dfe-80d1-07e9a00b38ae\", \"bb_000002412.jpg\", 83083)"
            ],
            "text/plain": [
              "<IPython.core.display.Javascript object>"
            ]
          },
          "metadata": {
            "tags": []
          }
        },
        {
          "output_type": "display_data",
          "data": {
            "application/javascript": [
              "\n",
              "    async function download(id, filename, size) {\n",
              "      if (!google.colab.kernel.accessAllowed) {\n",
              "        return;\n",
              "      }\n",
              "      const div = document.createElement('div');\n",
              "      const label = document.createElement('label');\n",
              "      label.textContent = `Downloading \"${filename}\": `;\n",
              "      div.appendChild(label);\n",
              "      const progress = document.createElement('progress');\n",
              "      progress.max = size;\n",
              "      div.appendChild(progress);\n",
              "      document.body.appendChild(div);\n",
              "\n",
              "      const buffers = [];\n",
              "      let downloaded = 0;\n",
              "\n",
              "      const channel = await google.colab.kernel.comms.open(id);\n",
              "      // Send a message to notify the kernel that we're ready.\n",
              "      channel.send({})\n",
              "\n",
              "      for await (const message of channel.messages) {\n",
              "        // Send a message to notify the kernel that we're ready.\n",
              "        channel.send({})\n",
              "        if (message.buffers) {\n",
              "          for (const buffer of message.buffers) {\n",
              "            buffers.push(buffer);\n",
              "            downloaded += buffer.byteLength;\n",
              "            progress.value = downloaded;\n",
              "          }\n",
              "        }\n",
              "      }\n",
              "      const blob = new Blob(buffers, {type: 'application/binary'});\n",
              "      const a = document.createElement('a');\n",
              "      a.href = window.URL.createObjectURL(blob);\n",
              "      a.download = filename;\n",
              "      div.appendChild(a);\n",
              "      a.click();\n",
              "      div.remove();\n",
              "    }\n",
              "  "
            ],
            "text/plain": [
              "<IPython.core.display.Javascript object>"
            ]
          },
          "metadata": {
            "tags": []
          }
        },
        {
          "output_type": "display_data",
          "data": {
            "application/javascript": [
              "download(\"download_9784c74a-f881-4e92-81a0-0bd8b2ce2b62\", \"bb_000000097.jpg\", 77987)"
            ],
            "text/plain": [
              "<IPython.core.display.Javascript object>"
            ]
          },
          "metadata": {
            "tags": []
          }
        },
        {
          "output_type": "display_data",
          "data": {
            "application/javascript": [
              "\n",
              "    async function download(id, filename, size) {\n",
              "      if (!google.colab.kernel.accessAllowed) {\n",
              "        return;\n",
              "      }\n",
              "      const div = document.createElement('div');\n",
              "      const label = document.createElement('label');\n",
              "      label.textContent = `Downloading \"${filename}\": `;\n",
              "      div.appendChild(label);\n",
              "      const progress = document.createElement('progress');\n",
              "      progress.max = size;\n",
              "      div.appendChild(progress);\n",
              "      document.body.appendChild(div);\n",
              "\n",
              "      const buffers = [];\n",
              "      let downloaded = 0;\n",
              "\n",
              "      const channel = await google.colab.kernel.comms.open(id);\n",
              "      // Send a message to notify the kernel that we're ready.\n",
              "      channel.send({})\n",
              "\n",
              "      for await (const message of channel.messages) {\n",
              "        // Send a message to notify the kernel that we're ready.\n",
              "        channel.send({})\n",
              "        if (message.buffers) {\n",
              "          for (const buffer of message.buffers) {\n",
              "            buffers.push(buffer);\n",
              "            downloaded += buffer.byteLength;\n",
              "            progress.value = downloaded;\n",
              "          }\n",
              "        }\n",
              "      }\n",
              "      const blob = new Blob(buffers, {type: 'application/binary'});\n",
              "      const a = document.createElement('a');\n",
              "      a.href = window.URL.createObjectURL(blob);\n",
              "      a.download = filename;\n",
              "      div.appendChild(a);\n",
              "      a.click();\n",
              "      div.remove();\n",
              "    }\n",
              "  "
            ],
            "text/plain": [
              "<IPython.core.display.Javascript object>"
            ]
          },
          "metadata": {
            "tags": []
          }
        },
        {
          "output_type": "display_data",
          "data": {
            "application/javascript": [
              "download(\"download_52200975-64a9-4d82-9e26-8d166fc7d4d1\", \"bb_000000441.jpg\", 77669)"
            ],
            "text/plain": [
              "<IPython.core.display.Javascript object>"
            ]
          },
          "metadata": {
            "tags": []
          }
        },
        {
          "output_type": "display_data",
          "data": {
            "application/javascript": [
              "\n",
              "    async function download(id, filename, size) {\n",
              "      if (!google.colab.kernel.accessAllowed) {\n",
              "        return;\n",
              "      }\n",
              "      const div = document.createElement('div');\n",
              "      const label = document.createElement('label');\n",
              "      label.textContent = `Downloading \"${filename}\": `;\n",
              "      div.appendChild(label);\n",
              "      const progress = document.createElement('progress');\n",
              "      progress.max = size;\n",
              "      div.appendChild(progress);\n",
              "      document.body.appendChild(div);\n",
              "\n",
              "      const buffers = [];\n",
              "      let downloaded = 0;\n",
              "\n",
              "      const channel = await google.colab.kernel.comms.open(id);\n",
              "      // Send a message to notify the kernel that we're ready.\n",
              "      channel.send({})\n",
              "\n",
              "      for await (const message of channel.messages) {\n",
              "        // Send a message to notify the kernel that we're ready.\n",
              "        channel.send({})\n",
              "        if (message.buffers) {\n",
              "          for (const buffer of message.buffers) {\n",
              "            buffers.push(buffer);\n",
              "            downloaded += buffer.byteLength;\n",
              "            progress.value = downloaded;\n",
              "          }\n",
              "        }\n",
              "      }\n",
              "      const blob = new Blob(buffers, {type: 'application/binary'});\n",
              "      const a = document.createElement('a');\n",
              "      a.href = window.URL.createObjectURL(blob);\n",
              "      a.download = filename;\n",
              "      div.appendChild(a);\n",
              "      a.click();\n",
              "      div.remove();\n",
              "    }\n",
              "  "
            ],
            "text/plain": [
              "<IPython.core.display.Javascript object>"
            ]
          },
          "metadata": {
            "tags": []
          }
        },
        {
          "output_type": "display_data",
          "data": {
            "application/javascript": [
              "download(\"download_3addaf9b-e019-4f63-9cd1-00c5b4f2deff\", \"bb_000002576.jpg\", 78173)"
            ],
            "text/plain": [
              "<IPython.core.display.Javascript object>"
            ]
          },
          "metadata": {
            "tags": []
          }
        },
        {
          "output_type": "display_data",
          "data": {
            "application/javascript": [
              "\n",
              "    async function download(id, filename, size) {\n",
              "      if (!google.colab.kernel.accessAllowed) {\n",
              "        return;\n",
              "      }\n",
              "      const div = document.createElement('div');\n",
              "      const label = document.createElement('label');\n",
              "      label.textContent = `Downloading \"${filename}\": `;\n",
              "      div.appendChild(label);\n",
              "      const progress = document.createElement('progress');\n",
              "      progress.max = size;\n",
              "      div.appendChild(progress);\n",
              "      document.body.appendChild(div);\n",
              "\n",
              "      const buffers = [];\n",
              "      let downloaded = 0;\n",
              "\n",
              "      const channel = await google.colab.kernel.comms.open(id);\n",
              "      // Send a message to notify the kernel that we're ready.\n",
              "      channel.send({})\n",
              "\n",
              "      for await (const message of channel.messages) {\n",
              "        // Send a message to notify the kernel that we're ready.\n",
              "        channel.send({})\n",
              "        if (message.buffers) {\n",
              "          for (const buffer of message.buffers) {\n",
              "            buffers.push(buffer);\n",
              "            downloaded += buffer.byteLength;\n",
              "            progress.value = downloaded;\n",
              "          }\n",
              "        }\n",
              "      }\n",
              "      const blob = new Blob(buffers, {type: 'application/binary'});\n",
              "      const a = document.createElement('a');\n",
              "      a.href = window.URL.createObjectURL(blob);\n",
              "      a.download = filename;\n",
              "      div.appendChild(a);\n",
              "      a.click();\n",
              "      div.remove();\n",
              "    }\n",
              "  "
            ],
            "text/plain": [
              "<IPython.core.display.Javascript object>"
            ]
          },
          "metadata": {
            "tags": []
          }
        },
        {
          "output_type": "display_data",
          "data": {
            "application/javascript": [
              "download(\"download_4cfd45de-2955-4857-a59d-6f301340c140\", \"bb_000000091.jpg\", 88850)"
            ],
            "text/plain": [
              "<IPython.core.display.Javascript object>"
            ]
          },
          "metadata": {
            "tags": []
          }
        },
        {
          "output_type": "display_data",
          "data": {
            "application/javascript": [
              "\n",
              "    async function download(id, filename, size) {\n",
              "      if (!google.colab.kernel.accessAllowed) {\n",
              "        return;\n",
              "      }\n",
              "      const div = document.createElement('div');\n",
              "      const label = document.createElement('label');\n",
              "      label.textContent = `Downloading \"${filename}\": `;\n",
              "      div.appendChild(label);\n",
              "      const progress = document.createElement('progress');\n",
              "      progress.max = size;\n",
              "      div.appendChild(progress);\n",
              "      document.body.appendChild(div);\n",
              "\n",
              "      const buffers = [];\n",
              "      let downloaded = 0;\n",
              "\n",
              "      const channel = await google.colab.kernel.comms.open(id);\n",
              "      // Send a message to notify the kernel that we're ready.\n",
              "      channel.send({})\n",
              "\n",
              "      for await (const message of channel.messages) {\n",
              "        // Send a message to notify the kernel that we're ready.\n",
              "        channel.send({})\n",
              "        if (message.buffers) {\n",
              "          for (const buffer of message.buffers) {\n",
              "            buffers.push(buffer);\n",
              "            downloaded += buffer.byteLength;\n",
              "            progress.value = downloaded;\n",
              "          }\n",
              "        }\n",
              "      }\n",
              "      const blob = new Blob(buffers, {type: 'application/binary'});\n",
              "      const a = document.createElement('a');\n",
              "      a.href = window.URL.createObjectURL(blob);\n",
              "      a.download = filename;\n",
              "      div.appendChild(a);\n",
              "      a.click();\n",
              "      div.remove();\n",
              "    }\n",
              "  "
            ],
            "text/plain": [
              "<IPython.core.display.Javascript object>"
            ]
          },
          "metadata": {
            "tags": []
          }
        },
        {
          "output_type": "display_data",
          "data": {
            "application/javascript": [
              "download(\"download_a848916c-f6ab-4201-904b-4c622256aeb4\", \"000000097.jpg\", 15549)"
            ],
            "text/plain": [
              "<IPython.core.display.Javascript object>"
            ]
          },
          "metadata": {
            "tags": []
          }
        },
        {
          "output_type": "display_data",
          "data": {
            "application/javascript": [
              "\n",
              "    async function download(id, filename, size) {\n",
              "      if (!google.colab.kernel.accessAllowed) {\n",
              "        return;\n",
              "      }\n",
              "      const div = document.createElement('div');\n",
              "      const label = document.createElement('label');\n",
              "      label.textContent = `Downloading \"${filename}\": `;\n",
              "      div.appendChild(label);\n",
              "      const progress = document.createElement('progress');\n",
              "      progress.max = size;\n",
              "      div.appendChild(progress);\n",
              "      document.body.appendChild(div);\n",
              "\n",
              "      const buffers = [];\n",
              "      let downloaded = 0;\n",
              "\n",
              "      const channel = await google.colab.kernel.comms.open(id);\n",
              "      // Send a message to notify the kernel that we're ready.\n",
              "      channel.send({})\n",
              "\n",
              "      for await (const message of channel.messages) {\n",
              "        // Send a message to notify the kernel that we're ready.\n",
              "        channel.send({})\n",
              "        if (message.buffers) {\n",
              "          for (const buffer of message.buffers) {\n",
              "            buffers.push(buffer);\n",
              "            downloaded += buffer.byteLength;\n",
              "            progress.value = downloaded;\n",
              "          }\n",
              "        }\n",
              "      }\n",
              "      const blob = new Blob(buffers, {type: 'application/binary'});\n",
              "      const a = document.createElement('a');\n",
              "      a.href = window.URL.createObjectURL(blob);\n",
              "      a.download = filename;\n",
              "      div.appendChild(a);\n",
              "      a.click();\n",
              "      div.remove();\n",
              "    }\n",
              "  "
            ],
            "text/plain": [
              "<IPython.core.display.Javascript object>"
            ]
          },
          "metadata": {
            "tags": []
          }
        },
        {
          "output_type": "display_data",
          "data": {
            "application/javascript": [
              "download(\"download_a74bfb4c-b6a4-4d9d-9349-9f1b51461384\", \"000000091.jpg\", 17847)"
            ],
            "text/plain": [
              "<IPython.core.display.Javascript object>"
            ]
          },
          "metadata": {
            "tags": []
          }
        },
        {
          "output_type": "display_data",
          "data": {
            "application/javascript": [
              "\n",
              "    async function download(id, filename, size) {\n",
              "      if (!google.colab.kernel.accessAllowed) {\n",
              "        return;\n",
              "      }\n",
              "      const div = document.createElement('div');\n",
              "      const label = document.createElement('label');\n",
              "      label.textContent = `Downloading \"${filename}\": `;\n",
              "      div.appendChild(label);\n",
              "      const progress = document.createElement('progress');\n",
              "      progress.max = size;\n",
              "      div.appendChild(progress);\n",
              "      document.body.appendChild(div);\n",
              "\n",
              "      const buffers = [];\n",
              "      let downloaded = 0;\n",
              "\n",
              "      const channel = await google.colab.kernel.comms.open(id);\n",
              "      // Send a message to notify the kernel that we're ready.\n",
              "      channel.send({})\n",
              "\n",
              "      for await (const message of channel.messages) {\n",
              "        // Send a message to notify the kernel that we're ready.\n",
              "        channel.send({})\n",
              "        if (message.buffers) {\n",
              "          for (const buffer of message.buffers) {\n",
              "            buffers.push(buffer);\n",
              "            downloaded += buffer.byteLength;\n",
              "            progress.value = downloaded;\n",
              "          }\n",
              "        }\n",
              "      }\n",
              "      const blob = new Blob(buffers, {type: 'application/binary'});\n",
              "      const a = document.createElement('a');\n",
              "      a.href = window.URL.createObjectURL(blob);\n",
              "      a.download = filename;\n",
              "      div.appendChild(a);\n",
              "      a.click();\n",
              "      div.remove();\n",
              "    }\n",
              "  "
            ],
            "text/plain": [
              "<IPython.core.display.Javascript object>"
            ]
          },
          "metadata": {
            "tags": []
          }
        },
        {
          "output_type": "display_data",
          "data": {
            "application/javascript": [
              "download(\"download_f012ebe7-092d-4bd8-8b5d-a29d21af8b51\", \"000002412.jpg\", 16646)"
            ],
            "text/plain": [
              "<IPython.core.display.Javascript object>"
            ]
          },
          "metadata": {
            "tags": []
          }
        },
        {
          "output_type": "display_data",
          "data": {
            "application/javascript": [
              "\n",
              "    async function download(id, filename, size) {\n",
              "      if (!google.colab.kernel.accessAllowed) {\n",
              "        return;\n",
              "      }\n",
              "      const div = document.createElement('div');\n",
              "      const label = document.createElement('label');\n",
              "      label.textContent = `Downloading \"${filename}\": `;\n",
              "      div.appendChild(label);\n",
              "      const progress = document.createElement('progress');\n",
              "      progress.max = size;\n",
              "      div.appendChild(progress);\n",
              "      document.body.appendChild(div);\n",
              "\n",
              "      const buffers = [];\n",
              "      let downloaded = 0;\n",
              "\n",
              "      const channel = await google.colab.kernel.comms.open(id);\n",
              "      // Send a message to notify the kernel that we're ready.\n",
              "      channel.send({})\n",
              "\n",
              "      for await (const message of channel.messages) {\n",
              "        // Send a message to notify the kernel that we're ready.\n",
              "        channel.send({})\n",
              "        if (message.buffers) {\n",
              "          for (const buffer of message.buffers) {\n",
              "            buffers.push(buffer);\n",
              "            downloaded += buffer.byteLength;\n",
              "            progress.value = downloaded;\n",
              "          }\n",
              "        }\n",
              "      }\n",
              "      const blob = new Blob(buffers, {type: 'application/binary'});\n",
              "      const a = document.createElement('a');\n",
              "      a.href = window.URL.createObjectURL(blob);\n",
              "      a.download = filename;\n",
              "      div.appendChild(a);\n",
              "      a.click();\n",
              "      div.remove();\n",
              "    }\n",
              "  "
            ],
            "text/plain": [
              "<IPython.core.display.Javascript object>"
            ]
          },
          "metadata": {
            "tags": []
          }
        },
        {
          "output_type": "display_data",
          "data": {
            "application/javascript": [
              "download(\"download_2c1b33c2-efe2-463b-b366-4bcf3078877b\", \"000002576.jpg\", 15517)"
            ],
            "text/plain": [
              "<IPython.core.display.Javascript object>"
            ]
          },
          "metadata": {
            "tags": []
          }
        },
        {
          "output_type": "display_data",
          "data": {
            "application/javascript": [
              "\n",
              "    async function download(id, filename, size) {\n",
              "      if (!google.colab.kernel.accessAllowed) {\n",
              "        return;\n",
              "      }\n",
              "      const div = document.createElement('div');\n",
              "      const label = document.createElement('label');\n",
              "      label.textContent = `Downloading \"${filename}\": `;\n",
              "      div.appendChild(label);\n",
              "      const progress = document.createElement('progress');\n",
              "      progress.max = size;\n",
              "      div.appendChild(progress);\n",
              "      document.body.appendChild(div);\n",
              "\n",
              "      const buffers = [];\n",
              "      let downloaded = 0;\n",
              "\n",
              "      const channel = await google.colab.kernel.comms.open(id);\n",
              "      // Send a message to notify the kernel that we're ready.\n",
              "      channel.send({})\n",
              "\n",
              "      for await (const message of channel.messages) {\n",
              "        // Send a message to notify the kernel that we're ready.\n",
              "        channel.send({})\n",
              "        if (message.buffers) {\n",
              "          for (const buffer of message.buffers) {\n",
              "            buffers.push(buffer);\n",
              "            downloaded += buffer.byteLength;\n",
              "            progress.value = downloaded;\n",
              "          }\n",
              "        }\n",
              "      }\n",
              "      const blob = new Blob(buffers, {type: 'application/binary'});\n",
              "      const a = document.createElement('a');\n",
              "      a.href = window.URL.createObjectURL(blob);\n",
              "      a.download = filename;\n",
              "      div.appendChild(a);\n",
              "      a.click();\n",
              "      div.remove();\n",
              "    }\n",
              "  "
            ],
            "text/plain": [
              "<IPython.core.display.Javascript object>"
            ]
          },
          "metadata": {
            "tags": []
          }
        },
        {
          "output_type": "display_data",
          "data": {
            "application/javascript": [
              "download(\"download_a95ad0ee-443c-4fb9-bf51-02859464932a\", \"000000441.jpg\", 15638)"
            ],
            "text/plain": [
              "<IPython.core.display.Javascript object>"
            ]
          },
          "metadata": {
            "tags": []
          }
        },
        {
          "output_type": "display_data",
          "data": {
            "application/javascript": [
              "\n",
              "    async function download(id, filename, size) {\n",
              "      if (!google.colab.kernel.accessAllowed) {\n",
              "        return;\n",
              "      }\n",
              "      const div = document.createElement('div');\n",
              "      const label = document.createElement('label');\n",
              "      label.textContent = `Downloading \"${filename}\": `;\n",
              "      div.appendChild(label);\n",
              "      const progress = document.createElement('progress');\n",
              "      progress.max = size;\n",
              "      div.appendChild(progress);\n",
              "      document.body.appendChild(div);\n",
              "\n",
              "      const buffers = [];\n",
              "      let downloaded = 0;\n",
              "\n",
              "      const channel = await google.colab.kernel.comms.open(id);\n",
              "      // Send a message to notify the kernel that we're ready.\n",
              "      channel.send({})\n",
              "\n",
              "      for await (const message of channel.messages) {\n",
              "        // Send a message to notify the kernel that we're ready.\n",
              "        channel.send({})\n",
              "        if (message.buffers) {\n",
              "          for (const buffer of message.buffers) {\n",
              "            buffers.push(buffer);\n",
              "            downloaded += buffer.byteLength;\n",
              "            progress.value = downloaded;\n",
              "          }\n",
              "        }\n",
              "      }\n",
              "      const blob = new Blob(buffers, {type: 'application/binary'});\n",
              "      const a = document.createElement('a');\n",
              "      a.href = window.URL.createObjectURL(blob);\n",
              "      a.download = filename;\n",
              "      div.appendChild(a);\n",
              "      a.click();\n",
              "      div.remove();\n",
              "    }\n",
              "  "
            ],
            "text/plain": [
              "<IPython.core.display.Javascript object>"
            ]
          },
          "metadata": {
            "tags": []
          }
        },
        {
          "output_type": "display_data",
          "data": {
            "application/javascript": [
              "download(\"download_f2699148-4ca7-4cfb-9847-9cad44f1ef9a\", \"000000076.jpg\", 15900)"
            ],
            "text/plain": [
              "<IPython.core.display.Javascript object>"
            ]
          },
          "metadata": {
            "tags": []
          }
        }
      ]
    },
    {
      "cell_type": "code",
      "metadata": {
        "id": "BnQcOB1Rdl9x",
        "colab_type": "code",
        "colab": {}
      },
      "source": [
        "  # Скачиваем исходные изображения, выбранные для теста\n",
        "for p in glob.glob('/content/data/test_data_images/test_data_images/test/*.jpg'):\n",
        "  files.download(p)"
      ],
      "execution_count": null,
      "outputs": []
    },
    {
      "cell_type": "code",
      "metadata": {
        "id": "fiAKo5vUC8ca",
        "colab_type": "code",
        "colab": {}
      },
      "source": [
        "# download файл весов переобученной модели\n",
        "for p in glob.glob('/content/run_1/snapshots/resnet50_csv_30_inference.h5'):\n",
        "  files.download(p)"
      ],
      "execution_count": null,
      "outputs": []
    },
    {
      "cell_type": "code",
      "metadata": {
        "id": "SD4BGZYzTZ-B",
        "colab_type": "code",
        "colab": {
          "base_uri": "https://localhost:8080/",
          "height": 204
        },
        "outputId": "8356cbda-081a-45bd-b7f4-56515e877696"
      },
      "source": [
        "# создать dataframe для визуализации результатов детекции - аннотации\n",
        "\n",
        "import pandas as pd\n",
        "df = pd.read_csv(\"/content/data/output/out.csv\")\n",
        "df.head()"
      ],
      "execution_count": null,
      "outputs": [
        {
          "output_type": "execute_result",
          "data": {
            "text/html": [
              "<div>\n",
              "<style scoped>\n",
              "    .dataframe tbody tr th:only-of-type {\n",
              "        vertical-align: middle;\n",
              "    }\n",
              "\n",
              "    .dataframe tbody tr th {\n",
              "        vertical-align: top;\n",
              "    }\n",
              "\n",
              "    .dataframe thead th {\n",
              "        text-align: right;\n",
              "    }\n",
              "</style>\n",
              "<table border=\"1\" class=\"dataframe\">\n",
              "  <thead>\n",
              "    <tr style=\"text-align: right;\">\n",
              "      <th></th>\n",
              "      <th>path</th>\n",
              "      <th>confidence</th>\n",
              "      <th>ymin</th>\n",
              "      <th>xmin</th>\n",
              "      <th>ymax</th>\n",
              "      <th>xmax</th>\n",
              "      <th>class</th>\n",
              "    </tr>\n",
              "  </thead>\n",
              "  <tbody>\n",
              "    <tr>\n",
              "      <th>0</th>\n",
              "      <td>path</td>\n",
              "      <td>confidence</td>\n",
              "      <td>ymin</td>\n",
              "      <td>xmin</td>\n",
              "      <td>ymax</td>\n",
              "      <td>xmax</td>\n",
              "      <td>class</td>\n",
              "    </tr>\n",
              "    <tr>\n",
              "      <th>1</th>\n",
              "      <td>/content/data/test_data_images/test_data_image...</td>\n",
              "      <td>0.9271933</td>\n",
              "      <td>117.74783</td>\n",
              "      <td>67.8338</td>\n",
              "      <td>128.9641</td>\n",
              "      <td>79.98892</td>\n",
              "      <td>1</td>\n",
              "    </tr>\n",
              "    <tr>\n",
              "      <th>2</th>\n",
              "      <td>/content/data/test_data_images/test_data_image...</td>\n",
              "      <td>0.8803564</td>\n",
              "      <td>156.62224</td>\n",
              "      <td>37.04683</td>\n",
              "      <td>167.8794</td>\n",
              "      <td>48.89156</td>\n",
              "      <td>1</td>\n",
              "    </tr>\n",
              "    <tr>\n",
              "      <th>3</th>\n",
              "      <td>/content/data/test_data_images/test_data_image...</td>\n",
              "      <td>0.83618027</td>\n",
              "      <td>117.82248</td>\n",
              "      <td>7.7262278</td>\n",
              "      <td>129.35545</td>\n",
              "      <td>21.591614</td>\n",
              "      <td>1</td>\n",
              "    </tr>\n",
              "    <tr>\n",
              "      <th>4</th>\n",
              "      <td>/content/data/test_data_images/test_data_image...</td>\n",
              "      <td>0.7392731</td>\n",
              "      <td>157.68387</td>\n",
              "      <td>184.14143</td>\n",
              "      <td>169.29431</td>\n",
              "      <td>195.93826</td>\n",
              "      <td>1</td>\n",
              "    </tr>\n",
              "  </tbody>\n",
              "</table>\n",
              "</div>"
            ],
            "text/plain": [
              "                                                path  ...  class\n",
              "0                                               path  ...  class\n",
              "1  /content/data/test_data_images/test_data_image...  ...      1\n",
              "2  /content/data/test_data_images/test_data_image...  ...      1\n",
              "3  /content/data/test_data_images/test_data_image...  ...      1\n",
              "4  /content/data/test_data_images/test_data_image...  ...      1\n",
              "\n",
              "[5 rows x 7 columns]"
            ]
          },
          "metadata": {
            "tags": []
          },
          "execution_count": 52
        }
      ]
    },
    {
      "cell_type": "code",
      "metadata": {
        "id": "ryr56it7WavU",
        "colab_type": "code",
        "colab": {
          "base_uri": "https://localhost:8080/",
          "height": 85
        },
        "outputId": "4a9501c9-7c97-438b-dc6c-e09f8574a869"
      },
      "source": [
        "# Считаем количество 1 и 2 класса\n",
        "df[\"class\"].value_counts()"
      ],
      "execution_count": null,
      "outputs": [
        {
          "output_type": "execute_result",
          "data": {
            "text/plain": [
              "1        14\n",
              "2         2\n",
              "class     1\n",
              "Name: class, dtype: int64"
            ]
          },
          "metadata": {
            "tags": []
          },
          "execution_count": 54
        }
      ]
    }
  ]
}