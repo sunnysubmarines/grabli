{
  "nbformat": 4,
  "nbformat_minor": 0,
  "metadata": {
    "colab": {
      "name": "Untitled",
      "provenance": [],
      "authorship_tag": "ABX9TyNehm+vNwBK/cCdf0aWp9ua"
    },
    "kernelspec": {
      "name": "python3",
      "display_name": "Python 3"
    }
  },
  "cells": [
    {
      "cell_type": "markdown",
      "metadata": {
        "id": "pMmzaXrvCUbu",
        "colab_type": "text"
      },
      "source": [
        "## Создание запроса с использованием Overpass API "
      ]
    },
    {
      "cell_type": "markdown",
      "metadata": {
        "id": "zuT8SP1k_lfc",
        "colab_type": "text"
      },
      "source": [
        "Для того, чтобы не выгружать большое количество данных OpenStreetMap, можно создать запрос для извлечения данных по узлам или путям, а также установления связи между объектами. Для этого используется специализированный язык запросов."
      ]
    },
    {
      "cell_type": "code",
      "metadata": {
        "id": "LqMI8iPK_ov_",
        "colab_type": "code",
        "colab": {}
      },
      "source": [
        "import requests\n",
        "import json"
      ],
      "execution_count": null,
      "outputs": []
    },
    {
      "cell_type": "markdown",
      "metadata": {
        "id": "x77gnMA6_tci",
        "colab_type": "text"
      },
      "source": [
        "\n",
        "Данные можно сохранить в различных форматах, json - наиболее приемлемый, так как все ГИС системы поддерживают специализированный формат GeoJSON."
      ]
    },
    {
      "cell_type": "code",
      "metadata": {
        "id": "6U50jHt_Vx22",
        "colab_type": "code",
        "colab": {}
      },
      "source": [
        "overpass_url = \"http://overpass-api.de/api/interpreter\"\n",
        "overpass_query = \"\"\"\n",
        "[out:json];\n",
        "area[name = \"Санкт-Петербург\"];( node[\"amenity\"=\"bench\"](area);\n",
        ");\n",
        "out center;\n",
        "\n",
        "\"\"\"\n",
        "response = requests.get(overpass_url, \n",
        "                        params={'data': overpass_query})\n",
        "data = response.json()\n"
      ],
      "execution_count": null,
      "outputs": []
    },
    {
      "cell_type": "code",
      "metadata": {
        "id": "_1FJLf9_WwPe",
        "colab_type": "code",
        "colab": {
          "base_uri": "https://localhost:8080/",
          "height": 295
        },
        "outputId": "194260e0-114a-4880-abcd-6d04464d7ece"
      },
      "source": [
        "import numpy as np\n",
        "import matplotlib.pyplot as plt# Collect coords into list\n",
        "coords = []\n",
        "for element in data['elements']:\n",
        "  if element['type'] == 'node':\n",
        "    lon = element['lon']\n",
        "    lat = element['lat']\n",
        "    coords.append((lon, lat))\n",
        "  elif 'center' in element:\n",
        "    lon = element['center']['lon']\n",
        "    lat = element['center']['lat']\n",
        "    coords.append((lon, lat))# Convert coordinates into numpy array\n",
        "X = np.array(coords)\n",
        "plt.plot(X[:, 0], X[:, 1], 'o')\n",
        "plt.title('Скамейки в Санкт-Петербурге')\n",
        "plt.xlabel('Долгота')\n",
        "plt.ylabel('Широта')\n",
        "plt.axis('equal')\n",
        "plt.show()"
      ],
      "execution_count": 7,
      "outputs": [
        {
          "output_type": "display_data",
          "data": {
            "image/png": "[encoded data removed]",
            "text/plain": [
              "<Figure size 432x288 with 1 Axes>"
            ]
          },
          "metadata": {
            "tags": [],
            "needs_background": "light"
          }
        }
      ]
    },
    {
      "cell_type": "code",
      "metadata": {
        "id": "pQ3koOH0otj6",
        "colab_type": "code",
        "colab": {}
      },
      "source": [
        ""
      ],
      "execution_count": null,
      "outputs": []
    }
  ]
}